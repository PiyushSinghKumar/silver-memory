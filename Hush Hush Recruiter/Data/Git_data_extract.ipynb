{
 "cells": [
  {
   "cell_type": "code",
   "execution_count": 8,
   "metadata": {},
   "outputs": [],
   "source": [
    "import requests\n",
    "from pandas.io.json import json_normalize\n",
    "import pandas as pd\n",
    "#pd.set_option('display.max_columns', 500)\n",
    "#pd.set_option('display.width', 1000)\n",
    "import configuration as config"
   ]
  },
  {
   "cell_type": "code",
   "execution_count": 9,
   "metadata": {},
   "outputs": [],
   "source": [
    "#Establish an connection with the API\n",
    "github_api = \"https://api.github.com\"\n",
    "gh_session = requests.Session()\n",
    "gh_session.auth = (config.GITHUB_USERNAME, config.GITHUB_TOKEN)"
   ]
  },
  {
   "cell_type": "code",
   "execution_count": 10,
   "metadata": {},
   "outputs": [],
   "source": [
    "#Fetch author name from where Github Repo\n",
    "def commits_of_repo_github(repo, owner, api):\n",
    "    commits = []\n",
    "    next = True\n",
    "    i = 1\n",
    "    while next == True:\n",
    "        url = api + '/repos/{}/{}/commits?page={}&per_page=100'.format(owner, repo, i)\n",
    "        commit_pg = gh_session.get(url = url)\n",
    "        #for item in commit_pg.json():\n",
    "         #   print(str(item))\n",
    "          #  break\n",
    "        commit_pg_list = [dict(item, **{'repo_name':'{}'.format(repo)}) for item in commit_pg.json()]\n",
    "        #for item in commit_pg_list:\n",
    "         #   print(str(item))\n",
    "          #  break\n",
    "        commit_pg_list = [dict(item, **{'owner':'{}'.format(owner)}) for item in commit_pg_list]\n",
    "        commits = commits + commit_pg_list\n",
    "        next = False\n",
    "        if 'Link' in commit_pg.headers:\n",
    "            if 'rel=\"next\"' not in commit_pg.headers['Link']:\n",
    "                print(commit_pg.headers['Link'])\n",
    "                next = False\n",
    "        i = i + 1\n",
    "    return json_normalize(commits)"
   ]
  },
  {
   "cell_type": "code",
   "execution_count": 12,
   "metadata": {},
   "outputs": [
    {
     "name": "stderr",
     "output_type": "stream",
     "text": [
      "<ipython-input-11-bf07c373d395>:3: FutureWarning: pandas.io.json.json_normalize is deprecated, use pandas.json_normalize instead\n",
      "  return json_normalize(commits_list)\n"
     ]
    }
   ],
   "source": [
    "commits = commits_of_repo_github('spark', 'apache', github_api) # fetch the rpo details and it's fields"
   ]
  },
  {
   "cell_type": "code",
   "execution_count": 14,
   "metadata": {},
   "outputs": [],
   "source": [
    "commits.to_csv('commits.csv',index=False) #Convert into csv file"
   ]
  },
  {
   "cell_type": "markdown",
   "metadata": {},
   "source": [
    "Take usernames from commits.csv and append them to a list which would be innput for the next piece of code"
   ]
  },
  {
   "cell_type": "code",
   "execution_count": 15,
   "metadata": {},
   "outputs": [
    {
     "name": "stdout",
     "output_type": "stream",
     "text": [
      "https://api.github.com/users/user_name[i]\n",
      "https://api.github.com/users/user_name[i]\n",
      "https://api.github.com/users/user_name[i]\n",
      "https://api.github.com/users/user_name[i]\n",
      "https://api.github.com/users/user_name[i]\n",
      "https://api.github.com/users/user_name[i]\n",
      "https://api.github.com/users/user_name[i]\n",
      "https://api.github.com/users/user_name[i]\n",
      "https://api.github.com/users/user_name[i]\n",
      "https://api.github.com/users/user_name[i]\n"
     ]
    }
   ],
   "source": [
    "user_name = [] # Manually put author names from the commits.csv file\n",
    "outfile = open(\"data.json\", \"w\")\n",
    "for i in range(0,len(user_name)):\n",
    "  url = f\"https://api.github.com/users/user_name[i]\"\n",
    "  print(url)\n",
    "  user_data = str(requests.get(url).json())\n",
    "  outfile.write(user_data)\n",
    "  outfile.write('\\n')"
   ]
  },
  {
   "cell_type": "code",
   "execution_count": null,
   "metadata": {},
   "outputs": [],
   "source": []
  }
 ],
 "metadata": {
  "interpreter": {
   "hash": "be86f6e8828306ddf3f0a996a005c92219c32da21f7d12d86ed2713510ea515a"
  },
  "kernelspec": {
   "display_name": "Python 3",
   "language": "python",
   "name": "python3"
  },
  "language_info": {
   "codemirror_mode": {
    "name": "ipython",
    "version": 3
   },
   "file_extension": ".py",
   "mimetype": "text/x-python",
   "name": "python",
   "nbconvert_exporter": "python",
   "pygments_lexer": "ipython3",
   "version": "3.8.8"
  }
 },
 "nbformat": 4,
 "nbformat_minor": 2
}
