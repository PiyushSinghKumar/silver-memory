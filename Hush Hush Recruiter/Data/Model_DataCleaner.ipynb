{
 "cells": [
  {
   "cell_type": "code",
   "execution_count": 31,
   "id": "b48e6295",
   "metadata": {},
   "outputs": [],
   "source": [
    "import pandas as pd\n",
    "import numpy as np"
   ]
  },
  {
   "cell_type": "code",
   "execution_count": 32,
   "id": "f747d5fe",
   "metadata": {},
   "outputs": [],
   "source": [
    "Data = pd.read_csv(\"Data.csv\")"
   ]
  },
  {
   "cell_type": "code",
   "execution_count": 33,
   "id": "0d33f556",
   "metadata": {},
   "outputs": [],
   "source": [
    "Data.isnull().sum()"
   ]
  },
  {
   "cell_type": "code",
   "execution_count": 34,
   "id": "b2b0dcd7",
   "metadata": {},
   "outputs": [],
   "source": [
    "dups = Data.duplicated()\n",
    "print('Number of duplicate rows = %d' % (dups.sum()))"
   ]
  },
  {
   "cell_type": "code",
   "execution_count": 35,
   "id": "8660bfda",
   "metadata": {},
   "outputs": [
    {
     "data": {
      "text/plain": [
       "(8850, 24)"
      ]
     },
     "execution_count": 35,
     "metadata": {},
     "output_type": "execute_result"
    }
   ],
   "source": [
    "Data.shape"
   ]
  },
  {
   "cell_type": "code",
   "execution_count": 36,
   "id": "0cb8f57c",
   "metadata": {},
   "outputs": [],
   "source": [
    "df = Data.copy()\n",
    "#df.shape"
   ]
  },
  {
   "cell_type": "code",
   "execution_count": 39,
   "id": "29aecaac",
   "metadata": {},
   "outputs": [],
   "source": [
    "from sklearn.impute import KNNImputer\n",
    "from sklearn.impute import SimpleImputer\n",
    "cat = ['Rank','MaxRank']\n",
    "num = ['followers', 'following', 'commits', 'public_repos','Rating', 'MaxRating', 'RegistrationTimeInSeconds', 'FriendOfCount', 'Reputation']\n",
    "imputer_num = KNNImputer(n_neighbors=3)\n",
    "data_num = pd.DataFrame(imputer_num.fit_transform(df[num]),columns = df[num].columns)\n",
    "imputer_cat = SimpleImputer(strategy = 'most_frequent')\n",
    "data_cat = pd.DataFrame(imputer_cat.fit_transform(df[cat]),columns = df[cat].columns)\n",
    "data2 = data_num.join(data_cat)\n",
    "#data2.head()"
   ]
  },
  {
   "cell_type": "code",
   "execution_count": 40,
   "id": "c8627221",
   "metadata": {},
   "outputs": [],
   "source": [
    "list = ['username','company', 'created_at', 'updated_at', 'Location', 'Tags', 'hirable','Views', 'UpVotes', 'DownVotes', 'NumAnswers', 'NumAccepted', 'AcceptedPercent']\n",
    "df2 = df[list]"
   ]
  },
  {
   "cell_type": "code",
   "execution_count": 42,
   "id": "319b1cfa",
   "metadata": {},
   "outputs": [],
   "source": [
    "Frame = data2.join(df2)\n",
    "#Frame.head()"
   ]
  },
  {
   "cell_type": "code",
   "execution_count": 44,
   "id": "a62c3911",
   "metadata": {},
   "outputs": [],
   "source": [
    "Frame['hirable'] = Frame['hirable'].fillna(0)"
   ]
  },
  {
   "cell_type": "code",
   "execution_count": 46,
   "id": "096c55a7",
   "metadata": {},
   "outputs": [],
   "source": [
    "Frame['Location'] = Frame['Location'].fillna('Not_Available')"
   ]
  },
  {
   "cell_type": "code",
   "execution_count": 47,
   "id": "132ca16e",
   "metadata": {},
   "outputs": [],
   "source": [
    "Frame['company'] = Frame['company'].fillna('Not_Available')"
   ]
  },
  {
   "cell_type": "code",
   "execution_count": 48,
   "id": "8ab370fb",
   "metadata": {},
   "outputs": [],
   "source": [
    "Frame = Frame.dropna(subset=['username'])"
   ]
  },
  {
   "cell_type": "code",
   "execution_count": 49,
   "id": "e64735c8",
   "metadata": {},
   "outputs": [],
   "source": [
    "Frame = Frame.dropna(subset=['created_at'])\n",
    "Frame = Frame.dropna(subset=['updated_at'])"
   ]
  },
  {
   "cell_type": "code",
   "execution_count": 50,
   "id": "b72ddfc2",
   "metadata": {},
   "outputs": [],
   "source": [
    "Frame[\"created_at\"]= pd.to_datetime(Frame[\"created_at\"])\n",
    "Frame[\"updated_at\"]= pd.to_datetime(Frame[\"updated_at\"])"
   ]
  },
  {
   "cell_type": "code",
   "execution_count": 51,
   "id": "bfd00c4d",
   "metadata": {},
   "outputs": [],
   "source": [
    "Frame['Time_active_in_days'] = (Frame['updated_at'] - Frame['created_at']).dt.days"
   ]
  },
  {
   "cell_type": "code",
   "execution_count": 52,
   "id": "c3ae8de5",
   "metadata": {},
   "outputs": [],
   "source": [
    "List=['followers', 'following', 'commits', 'public_repos','Rating', 'MaxRating', 'RegistrationTimeInSeconds', 'FriendOfCount', 'Reputation']\n",
    "for i in List:\n",
    "    Frame[i]=Frame[i].apply(np.ceil)"
   ]
  },
  {
   "cell_type": "code",
   "execution_count": 60,
   "id": "292f556e",
   "metadata": {},
   "outputs": [],
   "source": [
    "Frame.to_csv(\"Final_Data.csv\",index=None)"
   ]
  }
 ],
 "metadata": {
  "kernelspec": {
   "display_name": "Python 3 (ipykernel)",
   "language": "python",
   "name": "python3"
  },
  "language_info": {
   "codemirror_mode": {
    "name": "ipython",
    "version": 3
   },
   "file_extension": ".py",
   "mimetype": "text/x-python",
   "name": "python",
   "nbconvert_exporter": "python",
   "pygments_lexer": "ipython3",
   "version": "3.9.7"
  }
 },
 "nbformat": 4,
 "nbformat_minor": 5
}
