{
  "cells": [
    {
      "cell_type": "code",
      "execution_count": null,
      "metadata": {
        "id": "QZLCt8dyMryz"
      },
      "outputs": [],
      "source": [
        "### EDA Pkgs\n",
        "import pandas as pd\n",
        "# Data Viz Pkg\n",
        "import matplotlib.pyplot as plt\n",
        "import seaborn as sns\n",
        "# Hide warnings\n",
        "import warnings\n",
        "warnings.filterwarnings('ignore')"
      ]
    },
    {
      "cell_type": "code",
      "execution_count": null,
      "metadata": {
        "id": "nuzyWOdKu4A2"
      },
      "outputs": [],
      "source": [
        "df=pd.read_csv(\"/content/drive/MyDrive/Colab Notebooks/Data.csv\")"
      ]
    },
    {
      "cell_type": "code",
      "execution_count": null,
      "metadata": {
        "colab": {
          "base_uri": "https://localhost:8080/",
          "height": 204
        },
        "id": "Pk8FM2xCM_L1",
        "outputId": "a025f9f9-0e52-4dcd-9907-dba8b2409a28"
      },
      "outputs": [
        {
          "data": {
            "text/html": [
              "\n",
              "  <div id=\"df-338c8b50-367b-4de4-b926-ec01ef7a5a0f\">\n",
              "    <div class=\"colab-df-container\">\n",
              "      <div>\n",
              "<style scoped>\n",
              "    .dataframe tbody tr th:only-of-type {\n",
              "        vertical-align: middle;\n",
              "    }\n",
              "\n",
              "    .dataframe tbody tr th {\n",
              "        vertical-align: top;\n",
              "    }\n",
              "\n",
              "    .dataframe thead th {\n",
              "        text-align: right;\n",
              "    }\n",
              "</style>\n",
              "<table border=\"1\" class=\"dataframe\">\n",
              "  <thead>\n",
              "    <tr style=\"text-align: right;\">\n",
              "      <th></th>\n",
              "      <th>_id</th>\n",
              "      <th>text</th>\n",
              "    </tr>\n",
              "  </thead>\n",
              "  <tbody>\n",
              "    <tr>\n",
              "      <th>0</th>\n",
              "      <td>6290f497c4b90b8379bea2c3</td>\n",
              "      <td>@pattonoswalt It's like saying that covid-19 w...</td>\n",
              "    </tr>\n",
              "    <tr>\n",
              "      <th>1</th>\n",
              "      <td>6290f497c4b90b8379bea2c4</td>\n",
              "      <td>World 🌐 COVID-19\\n\\n@corona19_stats \\nhttps://...</td>\n",
              "    </tr>\n",
              "    <tr>\n",
              "      <th>2</th>\n",
              "      <td>6290f497c4b90b8379bea2c5</td>\n",
              "      <td>RT @HermelaBrook: Ethiopia has attracted 2.05 ...</td>\n",
              "    </tr>\n",
              "    <tr>\n",
              "      <th>3</th>\n",
              "      <td>6290f497c4b90b8379bea2c6</td>\n",
              "      <td>RT @umassmemorial: Here's the COVID-19 testing...</td>\n",
              "    </tr>\n",
              "    <tr>\n",
              "      <th>4</th>\n",
              "      <td>6290f497c4b90b8379bea2c7</td>\n",
              "      <td>RT @japantimes: Tokyo confirmed 2,630 new COVI...</td>\n",
              "    </tr>\n",
              "  </tbody>\n",
              "</table>\n",
              "</div>\n",
              "      <button class=\"colab-df-convert\" onclick=\"convertToInteractive('df-338c8b50-367b-4de4-b926-ec01ef7a5a0f')\"\n",
              "              title=\"Convert this dataframe to an interactive table.\"\n",
              "              style=\"display:none;\">\n",
              "        \n",
              "  <svg xmlns=\"http://www.w3.org/2000/svg\" height=\"24px\"viewBox=\"0 0 24 24\"\n",
              "       width=\"24px\">\n",
              "    <path d=\"M0 0h24v24H0V0z\" fill=\"none\"/>\n",
              "    <path d=\"M18.56 5.44l.94 2.06.94-2.06 2.06-.94-2.06-.94-.94-2.06-.94 2.06-2.06.94zm-11 1L8.5 8.5l.94-2.06 2.06-.94-2.06-.94L8.5 2.5l-.94 2.06-2.06.94zm10 10l.94 2.06.94-2.06 2.06-.94-2.06-.94-.94-2.06-.94 2.06-2.06.94z\"/><path d=\"M17.41 7.96l-1.37-1.37c-.4-.4-.92-.59-1.43-.59-.52 0-1.04.2-1.43.59L10.3 9.45l-7.72 7.72c-.78.78-.78 2.05 0 2.83L4 21.41c.39.39.9.59 1.41.59.51 0 1.02-.2 1.41-.59l7.78-7.78 2.81-2.81c.8-.78.8-2.07 0-2.86zM5.41 20L4 18.59l7.72-7.72 1.47 1.35L5.41 20z\"/>\n",
              "  </svg>\n",
              "      </button>\n",
              "      \n",
              "  <style>\n",
              "    .colab-df-container {\n",
              "      display:flex;\n",
              "      flex-wrap:wrap;\n",
              "      gap: 12px;\n",
              "    }\n",
              "\n",
              "    .colab-df-convert {\n",
              "      background-color: #E8F0FE;\n",
              "      border: none;\n",
              "      border-radius: 50%;\n",
              "      cursor: pointer;\n",
              "      display: none;\n",
              "      fill: #1967D2;\n",
              "      height: 32px;\n",
              "      padding: 0 0 0 0;\n",
              "      width: 32px;\n",
              "    }\n",
              "\n",
              "    .colab-df-convert:hover {\n",
              "      background-color: #E2EBFA;\n",
              "      box-shadow: 0px 1px 2px rgba(60, 64, 67, 0.3), 0px 1px 3px 1px rgba(60, 64, 67, 0.15);\n",
              "      fill: #174EA6;\n",
              "    }\n",
              "\n",
              "    [theme=dark] .colab-df-convert {\n",
              "      background-color: #3B4455;\n",
              "      fill: #D2E3FC;\n",
              "    }\n",
              "\n",
              "    [theme=dark] .colab-df-convert:hover {\n",
              "      background-color: #434B5C;\n",
              "      box-shadow: 0px 1px 3px 1px rgba(0, 0, 0, 0.15);\n",
              "      filter: drop-shadow(0px 1px 2px rgba(0, 0, 0, 0.3));\n",
              "      fill: #FFFFFF;\n",
              "    }\n",
              "  </style>\n",
              "\n",
              "      <script>\n",
              "        const buttonEl =\n",
              "          document.querySelector('#df-338c8b50-367b-4de4-b926-ec01ef7a5a0f button.colab-df-convert');\n",
              "        buttonEl.style.display =\n",
              "          google.colab.kernel.accessAllowed ? 'block' : 'none';\n",
              "\n",
              "        async function convertToInteractive(key) {\n",
              "          const element = document.querySelector('#df-338c8b50-367b-4de4-b926-ec01ef7a5a0f');\n",
              "          const dataTable =\n",
              "            await google.colab.kernel.invokeFunction('convertToInteractive',\n",
              "                                                     [key], {});\n",
              "          if (!dataTable) return;\n",
              "\n",
              "          const docLinkHtml = 'Like what you see? Visit the ' +\n",
              "            '<a target=\"_blank\" href=https://colab.research.google.com/notebooks/data_table.ipynb>data table notebook</a>'\n",
              "            + ' to learn more about interactive tables.';\n",
              "          element.innerHTML = '';\n",
              "          dataTable['output_type'] = 'display_data';\n",
              "          await google.colab.output.renderOutput(dataTable, element);\n",
              "          const docLink = document.createElement('div');\n",
              "          docLink.innerHTML = docLinkHtml;\n",
              "          element.appendChild(docLink);\n",
              "        }\n",
              "      </script>\n",
              "    </div>\n",
              "  </div>\n",
              "  "
            ],
            "text/plain": [
              "                        _id                                               text\n",
              "0  6290f497c4b90b8379bea2c3  @pattonoswalt It's like saying that covid-19 w...\n",
              "1  6290f497c4b90b8379bea2c4  World 🌐 COVID-19\\n\\n@corona19_stats \\nhttps://...\n",
              "2  6290f497c4b90b8379bea2c5  RT @HermelaBrook: Ethiopia has attracted 2.05 ...\n",
              "3  6290f497c4b90b8379bea2c6  RT @umassmemorial: Here's the COVID-19 testing...\n",
              "4  6290f497c4b90b8379bea2c7  RT @japantimes: Tokyo confirmed 2,630 new COVI..."
            ]
          },
          "execution_count": 73,
          "metadata": {},
          "output_type": "execute_result"
        }
      ],
      "source": [
        "# Preview\n",
        "df.head()"
      ]
    },
    {
      "cell_type": "code",
      "execution_count": null,
      "metadata": {
        "colab": {
          "base_uri": "https://localhost:8080/"
        },
        "id": "g-GBj5jTOJuj",
        "outputId": "93bb3c29-d605-4660-f308-332f2bc8dfcf"
      },
      "outputs": [
        {
          "data": {
            "text/plain": [
              "Index(['_id', 'text'], dtype='object')"
            ]
          },
          "execution_count": 74,
          "metadata": {},
          "output_type": "execute_result"
        }
      ],
      "source": [
        "df.columns"
      ]
    },
    {
      "cell_type": "code",
      "execution_count": null,
      "metadata": {
        "id": "S3eaFyTKN9qO"
      },
      "outputs": [],
      "source": [
        "df.drop(\"_id\", axis=1, inplace=True)"
      ]
    },
    {
      "cell_type": "code",
      "execution_count": null,
      "metadata": {
        "colab": {
          "base_uri": "https://localhost:8080/",
          "height": 204
        },
        "id": "TrlVSE6TO1cU",
        "outputId": "b6596a86-9663-49a5-f021-1166a463e88d"
      },
      "outputs": [
        {
          "data": {
            "text/html": [
              "\n",
              "  <div id=\"df-a4211bfa-22e0-428f-81ee-dd2911675389\">\n",
              "    <div class=\"colab-df-container\">\n",
              "      <div>\n",
              "<style scoped>\n",
              "    .dataframe tbody tr th:only-of-type {\n",
              "        vertical-align: middle;\n",
              "    }\n",
              "\n",
              "    .dataframe tbody tr th {\n",
              "        vertical-align: top;\n",
              "    }\n",
              "\n",
              "    .dataframe thead th {\n",
              "        text-align: right;\n",
              "    }\n",
              "</style>\n",
              "<table border=\"1\" class=\"dataframe\">\n",
              "  <thead>\n",
              "    <tr style=\"text-align: right;\">\n",
              "      <th></th>\n",
              "      <th>text</th>\n",
              "    </tr>\n",
              "  </thead>\n",
              "  <tbody>\n",
              "    <tr>\n",
              "      <th>0</th>\n",
              "      <td>@pattonoswalt It's like saying that covid-19 w...</td>\n",
              "    </tr>\n",
              "    <tr>\n",
              "      <th>1</th>\n",
              "      <td>World 🌐 COVID-19\\n\\n@corona19_stats \\nhttps://...</td>\n",
              "    </tr>\n",
              "    <tr>\n",
              "      <th>2</th>\n",
              "      <td>RT @HermelaBrook: Ethiopia has attracted 2.05 ...</td>\n",
              "    </tr>\n",
              "    <tr>\n",
              "      <th>3</th>\n",
              "      <td>RT @umassmemorial: Here's the COVID-19 testing...</td>\n",
              "    </tr>\n",
              "    <tr>\n",
              "      <th>4</th>\n",
              "      <td>RT @japantimes: Tokyo confirmed 2,630 new COVI...</td>\n",
              "    </tr>\n",
              "  </tbody>\n",
              "</table>\n",
              "</div>\n",
              "      <button class=\"colab-df-convert\" onclick=\"convertToInteractive('df-a4211bfa-22e0-428f-81ee-dd2911675389')\"\n",
              "              title=\"Convert this dataframe to an interactive table.\"\n",
              "              style=\"display:none;\">\n",
              "        \n",
              "  <svg xmlns=\"http://www.w3.org/2000/svg\" height=\"24px\"viewBox=\"0 0 24 24\"\n",
              "       width=\"24px\">\n",
              "    <path d=\"M0 0h24v24H0V0z\" fill=\"none\"/>\n",
              "    <path d=\"M18.56 5.44l.94 2.06.94-2.06 2.06-.94-2.06-.94-.94-2.06-.94 2.06-2.06.94zm-11 1L8.5 8.5l.94-2.06 2.06-.94-2.06-.94L8.5 2.5l-.94 2.06-2.06.94zm10 10l.94 2.06.94-2.06 2.06-.94-2.06-.94-.94-2.06-.94 2.06-2.06.94z\"/><path d=\"M17.41 7.96l-1.37-1.37c-.4-.4-.92-.59-1.43-.59-.52 0-1.04.2-1.43.59L10.3 9.45l-7.72 7.72c-.78.78-.78 2.05 0 2.83L4 21.41c.39.39.9.59 1.41.59.51 0 1.02-.2 1.41-.59l7.78-7.78 2.81-2.81c.8-.78.8-2.07 0-2.86zM5.41 20L4 18.59l7.72-7.72 1.47 1.35L5.41 20z\"/>\n",
              "  </svg>\n",
              "      </button>\n",
              "      \n",
              "  <style>\n",
              "    .colab-df-container {\n",
              "      display:flex;\n",
              "      flex-wrap:wrap;\n",
              "      gap: 12px;\n",
              "    }\n",
              "\n",
              "    .colab-df-convert {\n",
              "      background-color: #E8F0FE;\n",
              "      border: none;\n",
              "      border-radius: 50%;\n",
              "      cursor: pointer;\n",
              "      display: none;\n",
              "      fill: #1967D2;\n",
              "      height: 32px;\n",
              "      padding: 0 0 0 0;\n",
              "      width: 32px;\n",
              "    }\n",
              "\n",
              "    .colab-df-convert:hover {\n",
              "      background-color: #E2EBFA;\n",
              "      box-shadow: 0px 1px 2px rgba(60, 64, 67, 0.3), 0px 1px 3px 1px rgba(60, 64, 67, 0.15);\n",
              "      fill: #174EA6;\n",
              "    }\n",
              "\n",
              "    [theme=dark] .colab-df-convert {\n",
              "      background-color: #3B4455;\n",
              "      fill: #D2E3FC;\n",
              "    }\n",
              "\n",
              "    [theme=dark] .colab-df-convert:hover {\n",
              "      background-color: #434B5C;\n",
              "      box-shadow: 0px 1px 3px 1px rgba(0, 0, 0, 0.15);\n",
              "      filter: drop-shadow(0px 1px 2px rgba(0, 0, 0, 0.3));\n",
              "      fill: #FFFFFF;\n",
              "    }\n",
              "  </style>\n",
              "\n",
              "      <script>\n",
              "        const buttonEl =\n",
              "          document.querySelector('#df-a4211bfa-22e0-428f-81ee-dd2911675389 button.colab-df-convert');\n",
              "        buttonEl.style.display =\n",
              "          google.colab.kernel.accessAllowed ? 'block' : 'none';\n",
              "\n",
              "        async function convertToInteractive(key) {\n",
              "          const element = document.querySelector('#df-a4211bfa-22e0-428f-81ee-dd2911675389');\n",
              "          const dataTable =\n",
              "            await google.colab.kernel.invokeFunction('convertToInteractive',\n",
              "                                                     [key], {});\n",
              "          if (!dataTable) return;\n",
              "\n",
              "          const docLinkHtml = 'Like what you see? Visit the ' +\n",
              "            '<a target=\"_blank\" href=https://colab.research.google.com/notebooks/data_table.ipynb>data table notebook</a>'\n",
              "            + ' to learn more about interactive tables.';\n",
              "          element.innerHTML = '';\n",
              "          dataTable['output_type'] = 'display_data';\n",
              "          await google.colab.output.renderOutput(dataTable, element);\n",
              "          const docLink = document.createElement('div');\n",
              "          docLink.innerHTML = docLinkHtml;\n",
              "          element.appendChild(docLink);\n",
              "        }\n",
              "      </script>\n",
              "    </div>\n",
              "  </div>\n",
              "  "
            ],
            "text/plain": [
              "                                                text\n",
              "0  @pattonoswalt It's like saying that covid-19 w...\n",
              "1  World 🌐 COVID-19\\n\\n@corona19_stats \\nhttps://...\n",
              "2  RT @HermelaBrook: Ethiopia has attracted 2.05 ...\n",
              "3  RT @umassmemorial: Here's the COVID-19 testing...\n",
              "4  RT @japantimes: Tokyo confirmed 2,630 new COVI..."
            ]
          },
          "execution_count": 16,
          "metadata": {},
          "output_type": "execute_result"
        }
      ],
      "source": [
        "df.head()"
      ]
    },
    {
      "cell_type": "code",
      "execution_count": null,
      "metadata": {
        "colab": {
          "base_uri": "https://localhost:8080/",
          "height": 56
        },
        "id": "1iWb7UkcQIc5",
        "outputId": "ba767808-17f5-43d5-cc92-a859d0840b57"
      },
      "outputs": [
        {
          "data": {
            "application/vnd.google.colaboratory.intrinsic+json": {
              "type": "string"
            },
            "text/plain": [
              "'RT @japantimes: Tokyo confirmed 2,630 new COVID-19 cases on Friday, down by 943 from a week earlier. https://t.co/8ol9iQKFRe'"
            ]
          },
          "execution_count": 76,
          "metadata": {},
          "output_type": "execute_result"
        }
      ],
      "source": [
        "df.text.iloc[4]"
      ]
    },
    {
      "cell_type": "code",
      "execution_count": null,
      "metadata": {
        "colab": {
          "base_uri": "https://localhost:8080/",
          "height": 56
        },
        "id": "bonLnvCNQHUd",
        "outputId": "c8dedd5c-aff2-4fb2-d95d-ebafc74708a6"
      },
      "outputs": [
        {
          "data": {
            "application/vnd.google.colaboratory.intrinsic+json": {
              "type": "string"
            },
            "text/plain": [
              "'RT @blckbxnews: Deskundigen reageren met onbegrip op het besluit van @ministerVWS om vitamine D uit het basispakket te halen. ‘Onverantwoor…'"
            ]
          },
          "execution_count": 21,
          "metadata": {},
          "output_type": "execute_result"
        }
      ],
      "source": [
        "df.text.iloc[10]"
      ]
    },
    {
      "cell_type": "markdown",
      "metadata": {
        "id": "dTF3c6lBPX09"
      },
      "source": [
        "# Data cleaning \n",
        "+ remove mentions/userhandles\n",
        "+ remove_multiple_spaces\n",
        "+ remove hashtags\n",
        "+ urls\n",
        "+ emojis\n",
        "+ special char\n",
        "+ remove stop words \n"
      ]
    },
    {
      "cell_type": "markdown",
      "metadata": {
        "id": "5JJD4xVfQGkU"
      },
      "source": []
    },
    {
      "cell_type": "code",
      "execution_count": null,
      "metadata": {
        "colab": {
          "base_uri": "https://localhost:8080/"
        },
        "id": "wwlSto0XVMoi",
        "outputId": "1d2da3df-4af5-447a-d776-41646ea8659b"
      },
      "outputs": [
        {
          "name": "stdout",
          "output_type": "stream",
          "text": [
            "Looking in indexes: https://pypi.org/simple, https://us-python.pkg.dev/colab-wheels/public/simple/\n",
            "Collecting neattext\n",
            "  Downloading neattext-0.1.3-py3-none-any.whl (114 kB)\n",
            "\u001b[K     |████████████████████████████████| 114 kB 5.2 MB/s \n",
            "\u001b[?25hInstalling collected packages: neattext\n",
            "Successfully installed neattext-0.1.3\n"
          ]
        }
      ],
      "source": [
        "pip install neattext"
      ]
    },
    {
      "cell_type": "code",
      "execution_count": null,
      "metadata": {
        "id": "Mf8L0ZI5Pj_H"
      },
      "outputs": [],
      "source": [
        "# Load Text Cleaning Package\n",
        "import neattext.functions as nfx"
      ]
    },
    {
      "cell_type": "code",
      "execution_count": null,
      "metadata": {
        "colab": {
          "base_uri": "https://localhost:8080/"
        },
        "id": "mQTvtE6Wdt3g",
        "outputId": "02ddf05a-3223-43bd-c51e-a4982b8e31df"
      },
      "outputs": [
        {
          "data": {
            "text/plain": [
              "['BTC_ADDRESS_REGEX',\n",
              " 'CURRENCY_REGEX',\n",
              " 'CURRENCY_SYMB_REGEX',\n",
              " 'Counter',\n",
              " 'DATE_REGEX',\n",
              " 'EMAIL_REGEX',\n",
              " 'EMOJI_REGEX',\n",
              " 'HASTAG_REGEX',\n",
              " 'MASTERCard_REGEX',\n",
              " 'MD5_SHA_REGEX',\n",
              " 'MOST_COMMON_PUNCT_REGEX',\n",
              " 'NUMBERS_REGEX',\n",
              " 'PHONE_REGEX',\n",
              " 'PoBOX_REGEX',\n",
              " 'SPECIAL_CHARACTERS_REGEX',\n",
              " 'STOPWORDS',\n",
              " 'STOPWORDS_de',\n",
              " 'STOPWORDS_en',\n",
              " 'STOPWORDS_es',\n",
              " 'STOPWORDS_fr',\n",
              " 'STOPWORDS_ru',\n",
              " 'STOPWORDS_yo',\n",
              " 'STREET_ADDRESS_REGEX',\n",
              " 'TextFrame',\n",
              " 'URL_PATTERN',\n",
              " 'USER_HANDLES_REGEX',\n",
              " 'VISACard_REGEX',\n",
              " '__builtins__',\n",
              " '__cached__',\n",
              " '__doc__',\n",
              " '__file__',\n",
              " '__generate_text',\n",
              " '__loader__',\n",
              " '__name__',\n",
              " '__numbers_dict',\n",
              " '__package__',\n",
              " '__spec__',\n",
              " '_lex_richness_herdan',\n",
              " '_lex_richness_maas_ttr',\n",
              " 'clean_text',\n",
              " 'defaultdict',\n",
              " 'digit2words',\n",
              " 'extract_btc_address',\n",
              " 'extract_currencies',\n",
              " 'extract_currency_symbols',\n",
              " 'extract_dates',\n",
              " 'extract_emails',\n",
              " 'extract_emojis',\n",
              " 'extract_hashtags',\n",
              " 'extract_html_tags',\n",
              " 'extract_mastercard_addr',\n",
              " 'extract_md5sha',\n",
              " 'extract_numbers',\n",
              " 'extract_pattern',\n",
              " 'extract_phone_numbers',\n",
              " 'extract_postoffice_box',\n",
              " 'extract_shortwords',\n",
              " 'extract_special_characters',\n",
              " 'extract_stopwords',\n",
              " 'extract_street_address',\n",
              " 'extract_terms_in_bracket',\n",
              " 'extract_urls',\n",
              " 'extract_userhandles',\n",
              " 'extract_visacard_addr',\n",
              " 'fix_contractions',\n",
              " 'generate_sentence',\n",
              " 'hamming_distance',\n",
              " 'inverse_df',\n",
              " 'lexical_richness',\n",
              " 'markov_chain',\n",
              " 'math',\n",
              " 'nlargest',\n",
              " 'normalize',\n",
              " 'num2words',\n",
              " 'random',\n",
              " 're',\n",
              " 'read_txt',\n",
              " 'remove_accents',\n",
              " 'remove_bad_quotes',\n",
              " 'remove_btc_address',\n",
              " 'remove_currencies',\n",
              " 'remove_currency_symbols',\n",
              " 'remove_custom_pattern',\n",
              " 'remove_custom_words',\n",
              " 'remove_dates',\n",
              " 'remove_emails',\n",
              " 'remove_emojis',\n",
              " 'remove_hashtags',\n",
              " 'remove_html_tags',\n",
              " 'remove_mastercard_addr',\n",
              " 'remove_md5sha',\n",
              " 'remove_multiple_spaces',\n",
              " 'remove_non_ascii',\n",
              " 'remove_numbers',\n",
              " 'remove_phone_numbers',\n",
              " 'remove_postoffice_box',\n",
              " 'remove_puncts',\n",
              " 'remove_punctuations',\n",
              " 'remove_shortwords',\n",
              " 'remove_special_characters',\n",
              " 'remove_stopwords',\n",
              " 'remove_street_address',\n",
              " 'remove_terms_in_bracket',\n",
              " 'remove_urls',\n",
              " 'remove_userhandles',\n",
              " 'remove_visacard_addr',\n",
              " 'replace_bad_quotes',\n",
              " 'replace_currencies',\n",
              " 'replace_currency_symbols',\n",
              " 'replace_dates',\n",
              " 'replace_emails',\n",
              " 'replace_emojis',\n",
              " 'replace_numbers',\n",
              " 'replace_phone_numbers',\n",
              " 'replace_special_characters',\n",
              " 'replace_term',\n",
              " 'replace_urls',\n",
              " 'string',\n",
              " 'term_freq',\n",
              " 'to_txt',\n",
              " 'unicodedata',\n",
              " 'word_freq',\n",
              " 'word_length_freq']"
            ]
          },
          "execution_count": 26,
          "metadata": {},
          "output_type": "execute_result"
        }
      ],
      "source": [
        "dir(nfx)"
      ]
    },
    {
      "cell_type": "code",
      "execution_count": null,
      "metadata": {
        "id": "xJJd3jJRgr1S"
      },
      "outputs": [],
      "source": [
        "# remove_hashtags \n",
        "df['clean_text'] = df.text.apply(nfx.remove_hashtags)"
      ]
    },
    {
      "cell_type": "code",
      "execution_count": null,
      "metadata": {
        "colab": {
          "base_uri": "https://localhost:8080/",
          "height": 248
        },
        "id": "6UEIH2fnn-BH",
        "outputId": "fc46bdf3-dbd2-43e1-ff6e-ddc1226862d9"
      },
      "outputs": [
        {
          "data": {
            "text/html": [
              "\n",
              "  <div id=\"df-07423c33-37e8-4b2b-bd23-7f2f34cad722\">\n",
              "    <div class=\"colab-df-container\">\n",
              "      <div>\n",
              "<style scoped>\n",
              "    .dataframe tbody tr th:only-of-type {\n",
              "        vertical-align: middle;\n",
              "    }\n",
              "\n",
              "    .dataframe tbody tr th {\n",
              "        vertical-align: top;\n",
              "    }\n",
              "\n",
              "    .dataframe thead th {\n",
              "        text-align: right;\n",
              "    }\n",
              "</style>\n",
              "<table border=\"1\" class=\"dataframe\">\n",
              "  <thead>\n",
              "    <tr style=\"text-align: right;\">\n",
              "      <th></th>\n",
              "      <th>text</th>\n",
              "      <th>clean_text</th>\n",
              "    </tr>\n",
              "  </thead>\n",
              "  <tbody>\n",
              "    <tr>\n",
              "      <th>0</th>\n",
              "      <td>@pattonoswalt It's like saying that covid-19 w...</td>\n",
              "      <td>@pattonoswalt It's like saying that covid-19 w...</td>\n",
              "    </tr>\n",
              "    <tr>\n",
              "      <th>1</th>\n",
              "      <td>World 🌐 COVID-19\\n\\n@corona19_stats \\nhttps://...</td>\n",
              "      <td>World 🌐 COVID-19\\n\\n@corona19_stats \\nhttps://...</td>\n",
              "    </tr>\n",
              "    <tr>\n",
              "      <th>2</th>\n",
              "      <td>RT @HermelaBrook: Ethiopia has attracted 2.05 ...</td>\n",
              "      <td>RT @HermelaBrook: Ethiopia has attracted 2.05 ...</td>\n",
              "    </tr>\n",
              "    <tr>\n",
              "      <th>3</th>\n",
              "      <td>RT @umassmemorial: Here's the COVID-19 testing...</td>\n",
              "      <td>RT @umassmemorial: Here's the COVID-19 testing...</td>\n",
              "    </tr>\n",
              "    <tr>\n",
              "      <th>4</th>\n",
              "      <td>RT @japantimes: Tokyo confirmed 2,630 new COVI...</td>\n",
              "      <td>RT @japantimes: Tokyo confirmed 2,630 new COVI...</td>\n",
              "    </tr>\n",
              "  </tbody>\n",
              "</table>\n",
              "</div>\n",
              "      <button class=\"colab-df-convert\" onclick=\"convertToInteractive('df-07423c33-37e8-4b2b-bd23-7f2f34cad722')\"\n",
              "              title=\"Convert this dataframe to an interactive table.\"\n",
              "              style=\"display:none;\">\n",
              "        \n",
              "  <svg xmlns=\"http://www.w3.org/2000/svg\" height=\"24px\"viewBox=\"0 0 24 24\"\n",
              "       width=\"24px\">\n",
              "    <path d=\"M0 0h24v24H0V0z\" fill=\"none\"/>\n",
              "    <path d=\"M18.56 5.44l.94 2.06.94-2.06 2.06-.94-2.06-.94-.94-2.06-.94 2.06-2.06.94zm-11 1L8.5 8.5l.94-2.06 2.06-.94-2.06-.94L8.5 2.5l-.94 2.06-2.06.94zm10 10l.94 2.06.94-2.06 2.06-.94-2.06-.94-.94-2.06-.94 2.06-2.06.94z\"/><path d=\"M17.41 7.96l-1.37-1.37c-.4-.4-.92-.59-1.43-.59-.52 0-1.04.2-1.43.59L10.3 9.45l-7.72 7.72c-.78.78-.78 2.05 0 2.83L4 21.41c.39.39.9.59 1.41.59.51 0 1.02-.2 1.41-.59l7.78-7.78 2.81-2.81c.8-.78.8-2.07 0-2.86zM5.41 20L4 18.59l7.72-7.72 1.47 1.35L5.41 20z\"/>\n",
              "  </svg>\n",
              "      </button>\n",
              "      \n",
              "  <style>\n",
              "    .colab-df-container {\n",
              "      display:flex;\n",
              "      flex-wrap:wrap;\n",
              "      gap: 12px;\n",
              "    }\n",
              "\n",
              "    .colab-df-convert {\n",
              "      background-color: #E8F0FE;\n",
              "      border: none;\n",
              "      border-radius: 50%;\n",
              "      cursor: pointer;\n",
              "      display: none;\n",
              "      fill: #1967D2;\n",
              "      height: 32px;\n",
              "      padding: 0 0 0 0;\n",
              "      width: 32px;\n",
              "    }\n",
              "\n",
              "    .colab-df-convert:hover {\n",
              "      background-color: #E2EBFA;\n",
              "      box-shadow: 0px 1px 2px rgba(60, 64, 67, 0.3), 0px 1px 3px 1px rgba(60, 64, 67, 0.15);\n",
              "      fill: #174EA6;\n",
              "    }\n",
              "\n",
              "    [theme=dark] .colab-df-convert {\n",
              "      background-color: #3B4455;\n",
              "      fill: #D2E3FC;\n",
              "    }\n",
              "\n",
              "    [theme=dark] .colab-df-convert:hover {\n",
              "      background-color: #434B5C;\n",
              "      box-shadow: 0px 1px 3px 1px rgba(0, 0, 0, 0.15);\n",
              "      filter: drop-shadow(0px 1px 2px rgba(0, 0, 0, 0.3));\n",
              "      fill: #FFFFFF;\n",
              "    }\n",
              "  </style>\n",
              "\n",
              "      <script>\n",
              "        const buttonEl =\n",
              "          document.querySelector('#df-07423c33-37e8-4b2b-bd23-7f2f34cad722 button.colab-df-convert');\n",
              "        buttonEl.style.display =\n",
              "          google.colab.kernel.accessAllowed ? 'block' : 'none';\n",
              "\n",
              "        async function convertToInteractive(key) {\n",
              "          const element = document.querySelector('#df-07423c33-37e8-4b2b-bd23-7f2f34cad722');\n",
              "          const dataTable =\n",
              "            await google.colab.kernel.invokeFunction('convertToInteractive',\n",
              "                                                     [key], {});\n",
              "          if (!dataTable) return;\n",
              "\n",
              "          const docLinkHtml = 'Like what you see? Visit the ' +\n",
              "            '<a target=\"_blank\" href=https://colab.research.google.com/notebooks/data_table.ipynb>data table notebook</a>'\n",
              "            + ' to learn more about interactive tables.';\n",
              "          element.innerHTML = '';\n",
              "          dataTable['output_type'] = 'display_data';\n",
              "          await google.colab.output.renderOutput(dataTable, element);\n",
              "          const docLink = document.createElement('div');\n",
              "          docLink.innerHTML = docLinkHtml;\n",
              "          element.appendChild(docLink);\n",
              "        }\n",
              "      </script>\n",
              "    </div>\n",
              "  </div>\n",
              "  "
            ],
            "text/plain": [
              "                                                text  \\\n",
              "0  @pattonoswalt It's like saying that covid-19 w...   \n",
              "1  World 🌐 COVID-19\\n\\n@corona19_stats \\nhttps://...   \n",
              "2  RT @HermelaBrook: Ethiopia has attracted 2.05 ...   \n",
              "3  RT @umassmemorial: Here's the COVID-19 testing...   \n",
              "4  RT @japantimes: Tokyo confirmed 2,630 new COVI...   \n",
              "\n",
              "                                          clean_text  \n",
              "0  @pattonoswalt It's like saying that covid-19 w...  \n",
              "1  World 🌐 COVID-19\\n\\n@corona19_stats \\nhttps://...  \n",
              "2  RT @HermelaBrook: Ethiopia has attracted 2.05 ...  \n",
              "3  RT @umassmemorial: Here's the COVID-19 testing...  \n",
              "4  RT @japantimes: Tokyo confirmed 2,630 new COVI...  "
            ]
          },
          "execution_count": 82,
          "metadata": {},
          "output_type": "execute_result"
        }
      ],
      "source": [
        "df.head()"
      ]
    },
    {
      "cell_type": "code",
      "execution_count": null,
      "metadata": {
        "id": "rEiuqWUGoF5g"
      },
      "outputs": [],
      "source": [
        "# Remove users handle \n",
        "df['clean_text'] =df['clean_text'].apply(lambda x: nfx.remove_userhandles(x))"
      ]
    },
    {
      "cell_type": "code",
      "execution_count": null,
      "metadata": {
        "colab": {
          "base_uri": "https://localhost:8080/",
          "height": 248
        },
        "id": "hrRnp1MUsX4i",
        "outputId": "70bf8fc2-5923-4572-d35f-e4705b63971d"
      },
      "outputs": [
        {
          "data": {
            "text/html": [
              "\n",
              "  <div id=\"df-3ac48115-1c10-41e4-9e02-33e523625161\">\n",
              "    <div class=\"colab-df-container\">\n",
              "      <div>\n",
              "<style scoped>\n",
              "    .dataframe tbody tr th:only-of-type {\n",
              "        vertical-align: middle;\n",
              "    }\n",
              "\n",
              "    .dataframe tbody tr th {\n",
              "        vertical-align: top;\n",
              "    }\n",
              "\n",
              "    .dataframe thead th {\n",
              "        text-align: right;\n",
              "    }\n",
              "</style>\n",
              "<table border=\"1\" class=\"dataframe\">\n",
              "  <thead>\n",
              "    <tr style=\"text-align: right;\">\n",
              "      <th></th>\n",
              "      <th>text</th>\n",
              "      <th>clean_text</th>\n",
              "    </tr>\n",
              "  </thead>\n",
              "  <tbody>\n",
              "    <tr>\n",
              "      <th>0</th>\n",
              "      <td>@pattonoswalt It's like saying that covid-19 w...</td>\n",
              "      <td>It's like saying that covid-19 wasn't the pr...</td>\n",
              "    </tr>\n",
              "    <tr>\n",
              "      <th>1</th>\n",
              "      <td>World 🌐 COVID-19\\n\\n@corona19_stats \\nhttps://...</td>\n",
              "      <td>World 🌐 COVID-19\\n\\n  \\nhttps://t.co/7Di6Iqv7q...</td>\n",
              "    </tr>\n",
              "    <tr>\n",
              "      <th>2</th>\n",
              "      <td>RT @HermelaBrook: Ethiopia has attracted 2.05 ...</td>\n",
              "      <td>RT   Ethiopia has attracted 2.05 billion $$ in...</td>\n",
              "    </tr>\n",
              "    <tr>\n",
              "      <th>3</th>\n",
              "      <td>RT @umassmemorial: Here's the COVID-19 testing...</td>\n",
              "      <td>RT   Here's the COVID-19 testing and vaccine s...</td>\n",
              "    </tr>\n",
              "    <tr>\n",
              "      <th>4</th>\n",
              "      <td>RT @japantimes: Tokyo confirmed 2,630 new COVI...</td>\n",
              "      <td>RT   Tokyo confirmed 2,630 new COVID-19 cases ...</td>\n",
              "    </tr>\n",
              "  </tbody>\n",
              "</table>\n",
              "</div>\n",
              "      <button class=\"colab-df-convert\" onclick=\"convertToInteractive('df-3ac48115-1c10-41e4-9e02-33e523625161')\"\n",
              "              title=\"Convert this dataframe to an interactive table.\"\n",
              "              style=\"display:none;\">\n",
              "        \n",
              "  <svg xmlns=\"http://www.w3.org/2000/svg\" height=\"24px\"viewBox=\"0 0 24 24\"\n",
              "       width=\"24px\">\n",
              "    <path d=\"M0 0h24v24H0V0z\" fill=\"none\"/>\n",
              "    <path d=\"M18.56 5.44l.94 2.06.94-2.06 2.06-.94-2.06-.94-.94-2.06-.94 2.06-2.06.94zm-11 1L8.5 8.5l.94-2.06 2.06-.94-2.06-.94L8.5 2.5l-.94 2.06-2.06.94zm10 10l.94 2.06.94-2.06 2.06-.94-2.06-.94-.94-2.06-.94 2.06-2.06.94z\"/><path d=\"M17.41 7.96l-1.37-1.37c-.4-.4-.92-.59-1.43-.59-.52 0-1.04.2-1.43.59L10.3 9.45l-7.72 7.72c-.78.78-.78 2.05 0 2.83L4 21.41c.39.39.9.59 1.41.59.51 0 1.02-.2 1.41-.59l7.78-7.78 2.81-2.81c.8-.78.8-2.07 0-2.86zM5.41 20L4 18.59l7.72-7.72 1.47 1.35L5.41 20z\"/>\n",
              "  </svg>\n",
              "      </button>\n",
              "      \n",
              "  <style>\n",
              "    .colab-df-container {\n",
              "      display:flex;\n",
              "      flex-wrap:wrap;\n",
              "      gap: 12px;\n",
              "    }\n",
              "\n",
              "    .colab-df-convert {\n",
              "      background-color: #E8F0FE;\n",
              "      border: none;\n",
              "      border-radius: 50%;\n",
              "      cursor: pointer;\n",
              "      display: none;\n",
              "      fill: #1967D2;\n",
              "      height: 32px;\n",
              "      padding: 0 0 0 0;\n",
              "      width: 32px;\n",
              "    }\n",
              "\n",
              "    .colab-df-convert:hover {\n",
              "      background-color: #E2EBFA;\n",
              "      box-shadow: 0px 1px 2px rgba(60, 64, 67, 0.3), 0px 1px 3px 1px rgba(60, 64, 67, 0.15);\n",
              "      fill: #174EA6;\n",
              "    }\n",
              "\n",
              "    [theme=dark] .colab-df-convert {\n",
              "      background-color: #3B4455;\n",
              "      fill: #D2E3FC;\n",
              "    }\n",
              "\n",
              "    [theme=dark] .colab-df-convert:hover {\n",
              "      background-color: #434B5C;\n",
              "      box-shadow: 0px 1px 3px 1px rgba(0, 0, 0, 0.15);\n",
              "      filter: drop-shadow(0px 1px 2px rgba(0, 0, 0, 0.3));\n",
              "      fill: #FFFFFF;\n",
              "    }\n",
              "  </style>\n",
              "\n",
              "      <script>\n",
              "        const buttonEl =\n",
              "          document.querySelector('#df-3ac48115-1c10-41e4-9e02-33e523625161 button.colab-df-convert');\n",
              "        buttonEl.style.display =\n",
              "          google.colab.kernel.accessAllowed ? 'block' : 'none';\n",
              "\n",
              "        async function convertToInteractive(key) {\n",
              "          const element = document.querySelector('#df-3ac48115-1c10-41e4-9e02-33e523625161');\n",
              "          const dataTable =\n",
              "            await google.colab.kernel.invokeFunction('convertToInteractive',\n",
              "                                                     [key], {});\n",
              "          if (!dataTable) return;\n",
              "\n",
              "          const docLinkHtml = 'Like what you see? Visit the ' +\n",
              "            '<a target=\"_blank\" href=https://colab.research.google.com/notebooks/data_table.ipynb>data table notebook</a>'\n",
              "            + ' to learn more about interactive tables.';\n",
              "          element.innerHTML = '';\n",
              "          dataTable['output_type'] = 'display_data';\n",
              "          await google.colab.output.renderOutput(dataTable, element);\n",
              "          const docLink = document.createElement('div');\n",
              "          docLink.innerHTML = docLinkHtml;\n",
              "          element.appendChild(docLink);\n",
              "        }\n",
              "      </script>\n",
              "    </div>\n",
              "  </div>\n",
              "  "
            ],
            "text/plain": [
              "                                                text  \\\n",
              "0  @pattonoswalt It's like saying that covid-19 w...   \n",
              "1  World 🌐 COVID-19\\n\\n@corona19_stats \\nhttps://...   \n",
              "2  RT @HermelaBrook: Ethiopia has attracted 2.05 ...   \n",
              "3  RT @umassmemorial: Here's the COVID-19 testing...   \n",
              "4  RT @japantimes: Tokyo confirmed 2,630 new COVI...   \n",
              "\n",
              "                                          clean_text  \n",
              "0    It's like saying that covid-19 wasn't the pr...  \n",
              "1  World 🌐 COVID-19\\n\\n  \\nhttps://t.co/7Di6Iqv7q...  \n",
              "2  RT   Ethiopia has attracted 2.05 billion $$ in...  \n",
              "3  RT   Here's the COVID-19 testing and vaccine s...  \n",
              "4  RT   Tokyo confirmed 2,630 new COVID-19 cases ...  "
            ]
          },
          "execution_count": 84,
          "metadata": {},
          "output_type": "execute_result"
        }
      ],
      "source": [
        "df.head()"
      ]
    },
    {
      "cell_type": "code",
      "execution_count": null,
      "metadata": {
        "id": "kE9w0o54sxUb"
      },
      "outputs": [],
      "source": [
        "# Remove Multiple Spaces\n",
        "df['clean_text'] = df['clean_text'].apply(nfx.remove_multiple_spaces)"
      ]
    },
    {
      "cell_type": "code",
      "execution_count": null,
      "metadata": {
        "id": "St_P6bp2tbYk"
      },
      "outputs": [],
      "source": [
        "#  Remove urls\n",
        "df['clean_text'] = df['clean_text'].apply(nfx.remove_urls)"
      ]
    },
    {
      "cell_type": "code",
      "execution_count": null,
      "metadata": {
        "id": "QZnDI9CUuZdz"
      },
      "outputs": [],
      "source": [
        "# Remove emojis\n",
        "df['clean_text'] = df['clean_text'].apply(nfx.remove_emojis)"
      ]
    },
    {
      "cell_type": "code",
      "execution_count": null,
      "metadata": {
        "id": "w3EpusPCvRRP"
      },
      "outputs": [],
      "source": [
        "# Remove Punctuations\n",
        "df['clean_text'] = df['clean_text'].apply(nfx.remove_puncts)"
      ]
    },
    {
      "cell_type": "markdown",
      "metadata": {
        "id": "1qOKTr_FvoCi"
      },
      "source": [
        "# Sentimental Analysis"
      ]
    },
    {
      "cell_type": "code",
      "execution_count": null,
      "metadata": {
        "id": "_UCquHrzvds2"
      },
      "outputs": [],
      "source": [
        "from textblob import TextBlob"
      ]
    },
    {
      "cell_type": "code",
      "execution_count": null,
      "metadata": {
        "id": "UIoKVSUSv2mz"
      },
      "outputs": [],
      "source": [
        "def get_sentiment(text):\n",
        "    blob = TextBlob(text)\n",
        "    sentiment_polarity = blob.sentiment.polarity\n",
        "    sentiment_subjectivity = blob.sentiment.subjectivity\n",
        "    if sentiment_polarity > 0:\n",
        "        sentiment_label = 'Positive'\n",
        "    elif sentiment_polarity < 0:\n",
        "        sentiment_label = 'Negative'\n",
        "    else:\n",
        "        sentiment_label = 'Neutral'\n",
        "    result = {'polarity':sentiment_polarity,\n",
        "              'subjectivity':sentiment_subjectivity,\n",
        "              'sentiment':sentiment_label}\n",
        "    return result"
      ]
    },
    {
      "cell_type": "code",
      "execution_count": null,
      "metadata": {
        "colab": {
          "base_uri": "https://localhost:8080/"
        },
        "id": "tSqxGL_4yNJD",
        "outputId": "f8592d45-9c38-465e-b585-9430868170a5"
      },
      "outputs": [
        {
          "name": "stdout",
          "output_type": "stream",
          "text": [
            "RT The US Failed Miserably on COVID19 Canada Shows It Didnt Have to Be That Way  TIME \n"
          ]
        }
      ],
      "source": [
        "# Text \n",
        "ex1 = df['clean_text'].iloc[5]\n",
        "print(ex1)"
      ]
    },
    {
      "cell_type": "code",
      "execution_count": null,
      "metadata": {
        "colab": {
          "base_uri": "https://localhost:8080/"
        },
        "id": "sBNPzbUsyoCw",
        "outputId": "7385a428-f219-4aa6-e444-439471bb55c8"
      },
      "outputs": [
        {
          "data": {
            "text/plain": [
              "{'polarity': -0.75, 'sentiment': 'Negative', 'subjectivity': 0.65}"
            ]
          },
          "execution_count": 92,
          "metadata": {},
          "output_type": "execute_result"
        }
      ],
      "source": [
        "get_sentiment(ex1)"
      ]
    },
    {
      "cell_type": "code",
      "execution_count": null,
      "metadata": {
        "id": "52NdRKpzy1fL"
      },
      "outputs": [],
      "source": [
        "df['sentiment_results'] = df['clean_text'].apply(get_sentiment)"
      ]
    },
    {
      "cell_type": "code",
      "execution_count": null,
      "metadata": {
        "colab": {
          "base_uri": "https://localhost:8080/",
          "height": 350
        },
        "id": "SfZLLazzy76B",
        "outputId": "630f993c-ed3c-4173-c703-310a5aa0e7b3"
      },
      "outputs": [
        {
          "data": {
            "text/html": [
              "\n",
              "  <div id=\"df-b0578408-2163-4047-9726-c6cb0f2ccbb4\">\n",
              "    <div class=\"colab-df-container\">\n",
              "      <div>\n",
              "<style scoped>\n",
              "    .dataframe tbody tr th:only-of-type {\n",
              "        vertical-align: middle;\n",
              "    }\n",
              "\n",
              "    .dataframe tbody tr th {\n",
              "        vertical-align: top;\n",
              "    }\n",
              "\n",
              "    .dataframe thead th {\n",
              "        text-align: right;\n",
              "    }\n",
              "</style>\n",
              "<table border=\"1\" class=\"dataframe\">\n",
              "  <thead>\n",
              "    <tr style=\"text-align: right;\">\n",
              "      <th></th>\n",
              "      <th>text</th>\n",
              "      <th>clean_text</th>\n",
              "      <th>sentiment_results</th>\n",
              "    </tr>\n",
              "  </thead>\n",
              "  <tbody>\n",
              "    <tr>\n",
              "      <th>0</th>\n",
              "      <td>@pattonoswalt It's like saying that covid-19 w...</td>\n",
              "      <td>Its like saying that covid19 wasnt the proble...</td>\n",
              "      <td>{'polarity': -0.2, 'subjectivity': 0.0, 'senti...</td>\n",
              "    </tr>\n",
              "    <tr>\n",
              "      <th>1</th>\n",
              "      <td>World 🌐 COVID-19\\n\\n@corona19_stats \\nhttps://...</td>\n",
              "      <td>World  COVID19</td>\n",
              "      <td>{'polarity': 0.0, 'subjectivity': 0.0, 'sentim...</td>\n",
              "    </tr>\n",
              "    <tr>\n",
              "      <th>2</th>\n",
              "      <td>RT @HermelaBrook: Ethiopia has attracted 2.05 ...</td>\n",
              "      <td>RT Ethiopia has attracted 205 billion $$ in Fo...</td>\n",
              "      <td>{'polarity': -0.008333333333333331, 'subjectiv...</td>\n",
              "    </tr>\n",
              "    <tr>\n",
              "      <th>3</th>\n",
              "      <td>RT @umassmemorial: Here's the COVID-19 testing...</td>\n",
              "      <td>RT Heres the COVID19 testing and vaccine sched...</td>\n",
              "      <td>{'polarity': 0.0, 'subjectivity': 0.0, 'sentim...</td>\n",
              "    </tr>\n",
              "    <tr>\n",
              "      <th>4</th>\n",
              "      <td>RT @japantimes: Tokyo confirmed 2,630 new COVI...</td>\n",
              "      <td>RT Tokyo confirmed 2630 new COVID19 cases on F...</td>\n",
              "      <td>{'polarity': 0.0952020202020202, 'subjectivity...</td>\n",
              "    </tr>\n",
              "  </tbody>\n",
              "</table>\n",
              "</div>\n",
              "      <button class=\"colab-df-convert\" onclick=\"convertToInteractive('df-b0578408-2163-4047-9726-c6cb0f2ccbb4')\"\n",
              "              title=\"Convert this dataframe to an interactive table.\"\n",
              "              style=\"display:none;\">\n",
              "        \n",
              "  <svg xmlns=\"http://www.w3.org/2000/svg\" height=\"24px\"viewBox=\"0 0 24 24\"\n",
              "       width=\"24px\">\n",
              "    <path d=\"M0 0h24v24H0V0z\" fill=\"none\"/>\n",
              "    <path d=\"M18.56 5.44l.94 2.06.94-2.06 2.06-.94-2.06-.94-.94-2.06-.94 2.06-2.06.94zm-11 1L8.5 8.5l.94-2.06 2.06-.94-2.06-.94L8.5 2.5l-.94 2.06-2.06.94zm10 10l.94 2.06.94-2.06 2.06-.94-2.06-.94-.94-2.06-.94 2.06-2.06.94z\"/><path d=\"M17.41 7.96l-1.37-1.37c-.4-.4-.92-.59-1.43-.59-.52 0-1.04.2-1.43.59L10.3 9.45l-7.72 7.72c-.78.78-.78 2.05 0 2.83L4 21.41c.39.39.9.59 1.41.59.51 0 1.02-.2 1.41-.59l7.78-7.78 2.81-2.81c.8-.78.8-2.07 0-2.86zM5.41 20L4 18.59l7.72-7.72 1.47 1.35L5.41 20z\"/>\n",
              "  </svg>\n",
              "      </button>\n",
              "      \n",
              "  <style>\n",
              "    .colab-df-container {\n",
              "      display:flex;\n",
              "      flex-wrap:wrap;\n",
              "      gap: 12px;\n",
              "    }\n",
              "\n",
              "    .colab-df-convert {\n",
              "      background-color: #E8F0FE;\n",
              "      border: none;\n",
              "      border-radius: 50%;\n",
              "      cursor: pointer;\n",
              "      display: none;\n",
              "      fill: #1967D2;\n",
              "      height: 32px;\n",
              "      padding: 0 0 0 0;\n",
              "      width: 32px;\n",
              "    }\n",
              "\n",
              "    .colab-df-convert:hover {\n",
              "      background-color: #E2EBFA;\n",
              "      box-shadow: 0px 1px 2px rgba(60, 64, 67, 0.3), 0px 1px 3px 1px rgba(60, 64, 67, 0.15);\n",
              "      fill: #174EA6;\n",
              "    }\n",
              "\n",
              "    [theme=dark] .colab-df-convert {\n",
              "      background-color: #3B4455;\n",
              "      fill: #D2E3FC;\n",
              "    }\n",
              "\n",
              "    [theme=dark] .colab-df-convert:hover {\n",
              "      background-color: #434B5C;\n",
              "      box-shadow: 0px 1px 3px 1px rgba(0, 0, 0, 0.15);\n",
              "      filter: drop-shadow(0px 1px 2px rgba(0, 0, 0, 0.3));\n",
              "      fill: #FFFFFF;\n",
              "    }\n",
              "  </style>\n",
              "\n",
              "      <script>\n",
              "        const buttonEl =\n",
              "          document.querySelector('#df-b0578408-2163-4047-9726-c6cb0f2ccbb4 button.colab-df-convert');\n",
              "        buttonEl.style.display =\n",
              "          google.colab.kernel.accessAllowed ? 'block' : 'none';\n",
              "\n",
              "        async function convertToInteractive(key) {\n",
              "          const element = document.querySelector('#df-b0578408-2163-4047-9726-c6cb0f2ccbb4');\n",
              "          const dataTable =\n",
              "            await google.colab.kernel.invokeFunction('convertToInteractive',\n",
              "                                                     [key], {});\n",
              "          if (!dataTable) return;\n",
              "\n",
              "          const docLinkHtml = 'Like what you see? Visit the ' +\n",
              "            '<a target=\"_blank\" href=https://colab.research.google.com/notebooks/data_table.ipynb>data table notebook</a>'\n",
              "            + ' to learn more about interactive tables.';\n",
              "          element.innerHTML = '';\n",
              "          dataTable['output_type'] = 'display_data';\n",
              "          await google.colab.output.renderOutput(dataTable, element);\n",
              "          const docLink = document.createElement('div');\n",
              "          docLink.innerHTML = docLinkHtml;\n",
              "          element.appendChild(docLink);\n",
              "        }\n",
              "      </script>\n",
              "    </div>\n",
              "  </div>\n",
              "  "
            ],
            "text/plain": [
              "                                                text  \\\n",
              "0  @pattonoswalt It's like saying that covid-19 w...   \n",
              "1  World 🌐 COVID-19\\n\\n@corona19_stats \\nhttps://...   \n",
              "2  RT @HermelaBrook: Ethiopia has attracted 2.05 ...   \n",
              "3  RT @umassmemorial: Here's the COVID-19 testing...   \n",
              "4  RT @japantimes: Tokyo confirmed 2,630 new COVI...   \n",
              "\n",
              "                                          clean_text  \\\n",
              "0   Its like saying that covid19 wasnt the proble...   \n",
              "1                                   World  COVID19     \n",
              "2  RT Ethiopia has attracted 205 billion $$ in Fo...   \n",
              "3  RT Heres the COVID19 testing and vaccine sched...   \n",
              "4  RT Tokyo confirmed 2630 new COVID19 cases on F...   \n",
              "\n",
              "                                   sentiment_results  \n",
              "0  {'polarity': -0.2, 'subjectivity': 0.0, 'senti...  \n",
              "1  {'polarity': 0.0, 'subjectivity': 0.0, 'sentim...  \n",
              "2  {'polarity': -0.008333333333333331, 'subjectiv...  \n",
              "3  {'polarity': 0.0, 'subjectivity': 0.0, 'sentim...  \n",
              "4  {'polarity': 0.0952020202020202, 'subjectivity...  "
            ]
          },
          "execution_count": 94,
          "metadata": {},
          "output_type": "execute_result"
        }
      ],
      "source": [
        "df.head()"
      ]
    },
    {
      "cell_type": "code",
      "execution_count": null,
      "metadata": {
        "colab": {
          "base_uri": "https://localhost:8080/"
        },
        "id": "IdTU9gFfzFQW",
        "outputId": "c50f1c06-80cf-47e3-b099-41ac9ce10bd5"
      },
      "outputs": [
        {
          "data": {
            "text/plain": [
              "{'polarity': -0.2, 'sentiment': 'Negative', 'subjectivity': 0.0}"
            ]
          },
          "execution_count": 95,
          "metadata": {},
          "output_type": "execute_result"
        }
      ],
      "source": [
        "df['sentiment_results'].iloc[0]"
      ]
    },
    {
      "cell_type": "code",
      "execution_count": null,
      "metadata": {
        "colab": {
          "base_uri": "https://localhost:8080/",
          "height": 80
        },
        "id": "ybzlQYy2zRcr",
        "outputId": "b805476f-c148-41d3-f174-4b67b88a4ac5"
      },
      "outputs": [
        {
          "data": {
            "text/html": [
              "\n",
              "  <div id=\"df-0cf38e33-a65f-4fe6-89a4-16e041406169\">\n",
              "    <div class=\"colab-df-container\">\n",
              "      <div>\n",
              "<style scoped>\n",
              "    .dataframe tbody tr th:only-of-type {\n",
              "        vertical-align: middle;\n",
              "    }\n",
              "\n",
              "    .dataframe tbody tr th {\n",
              "        vertical-align: top;\n",
              "    }\n",
              "\n",
              "    .dataframe thead th {\n",
              "        text-align: right;\n",
              "    }\n",
              "</style>\n",
              "<table border=\"1\" class=\"dataframe\">\n",
              "  <thead>\n",
              "    <tr style=\"text-align: right;\">\n",
              "      <th></th>\n",
              "      <th>polarity</th>\n",
              "      <th>subjectivity</th>\n",
              "      <th>sentiment</th>\n",
              "    </tr>\n",
              "  </thead>\n",
              "  <tbody>\n",
              "    <tr>\n",
              "      <th>0</th>\n",
              "      <td>-0.2</td>\n",
              "      <td>0.0</td>\n",
              "      <td>Negative</td>\n",
              "    </tr>\n",
              "  </tbody>\n",
              "</table>\n",
              "</div>\n",
              "      <button class=\"colab-df-convert\" onclick=\"convertToInteractive('df-0cf38e33-a65f-4fe6-89a4-16e041406169')\"\n",
              "              title=\"Convert this dataframe to an interactive table.\"\n",
              "              style=\"display:none;\">\n",
              "        \n",
              "  <svg xmlns=\"http://www.w3.org/2000/svg\" height=\"24px\"viewBox=\"0 0 24 24\"\n",
              "       width=\"24px\">\n",
              "    <path d=\"M0 0h24v24H0V0z\" fill=\"none\"/>\n",
              "    <path d=\"M18.56 5.44l.94 2.06.94-2.06 2.06-.94-2.06-.94-.94-2.06-.94 2.06-2.06.94zm-11 1L8.5 8.5l.94-2.06 2.06-.94-2.06-.94L8.5 2.5l-.94 2.06-2.06.94zm10 10l.94 2.06.94-2.06 2.06-.94-2.06-.94-.94-2.06-.94 2.06-2.06.94z\"/><path d=\"M17.41 7.96l-1.37-1.37c-.4-.4-.92-.59-1.43-.59-.52 0-1.04.2-1.43.59L10.3 9.45l-7.72 7.72c-.78.78-.78 2.05 0 2.83L4 21.41c.39.39.9.59 1.41.59.51 0 1.02-.2 1.41-.59l7.78-7.78 2.81-2.81c.8-.78.8-2.07 0-2.86zM5.41 20L4 18.59l7.72-7.72 1.47 1.35L5.41 20z\"/>\n",
              "  </svg>\n",
              "      </button>\n",
              "      \n",
              "  <style>\n",
              "    .colab-df-container {\n",
              "      display:flex;\n",
              "      flex-wrap:wrap;\n",
              "      gap: 12px;\n",
              "    }\n",
              "\n",
              "    .colab-df-convert {\n",
              "      background-color: #E8F0FE;\n",
              "      border: none;\n",
              "      border-radius: 50%;\n",
              "      cursor: pointer;\n",
              "      display: none;\n",
              "      fill: #1967D2;\n",
              "      height: 32px;\n",
              "      padding: 0 0 0 0;\n",
              "      width: 32px;\n",
              "    }\n",
              "\n",
              "    .colab-df-convert:hover {\n",
              "      background-color: #E2EBFA;\n",
              "      box-shadow: 0px 1px 2px rgba(60, 64, 67, 0.3), 0px 1px 3px 1px rgba(60, 64, 67, 0.15);\n",
              "      fill: #174EA6;\n",
              "    }\n",
              "\n",
              "    [theme=dark] .colab-df-convert {\n",
              "      background-color: #3B4455;\n",
              "      fill: #D2E3FC;\n",
              "    }\n",
              "\n",
              "    [theme=dark] .colab-df-convert:hover {\n",
              "      background-color: #434B5C;\n",
              "      box-shadow: 0px 1px 3px 1px rgba(0, 0, 0, 0.15);\n",
              "      filter: drop-shadow(0px 1px 2px rgba(0, 0, 0, 0.3));\n",
              "      fill: #FFFFFF;\n",
              "    }\n",
              "  </style>\n",
              "\n",
              "      <script>\n",
              "        const buttonEl =\n",
              "          document.querySelector('#df-0cf38e33-a65f-4fe6-89a4-16e041406169 button.colab-df-convert');\n",
              "        buttonEl.style.display =\n",
              "          google.colab.kernel.accessAllowed ? 'block' : 'none';\n",
              "\n",
              "        async function convertToInteractive(key) {\n",
              "          const element = document.querySelector('#df-0cf38e33-a65f-4fe6-89a4-16e041406169');\n",
              "          const dataTable =\n",
              "            await google.colab.kernel.invokeFunction('convertToInteractive',\n",
              "                                                     [key], {});\n",
              "          if (!dataTable) return;\n",
              "\n",
              "          const docLinkHtml = 'Like what you see? Visit the ' +\n",
              "            '<a target=\"_blank\" href=https://colab.research.google.com/notebooks/data_table.ipynb>data table notebook</a>'\n",
              "            + ' to learn more about interactive tables.';\n",
              "          element.innerHTML = '';\n",
              "          dataTable['output_type'] = 'display_data';\n",
              "          await google.colab.output.renderOutput(dataTable, element);\n",
              "          const docLink = document.createElement('div');\n",
              "          docLink.innerHTML = docLinkHtml;\n",
              "          element.appendChild(docLink);\n",
              "        }\n",
              "      </script>\n",
              "    </div>\n",
              "  </div>\n",
              "  "
            ],
            "text/plain": [
              "   polarity  subjectivity sentiment\n",
              "0      -0.2           0.0  Negative"
            ]
          },
          "execution_count": 96,
          "metadata": {},
          "output_type": "execute_result"
        }
      ],
      "source": [
        "pd.json_normalize(df['sentiment_results'].iloc[0])"
      ]
    },
    {
      "cell_type": "code",
      "execution_count": null,
      "metadata": {
        "id": "XiKH9AfMzaIU"
      },
      "outputs": [],
      "source": [
        "df = df.join(pd.json_normalize(df['sentiment_results']))"
      ]
    },
    {
      "cell_type": "code",
      "execution_count": null,
      "metadata": {
        "colab": {
          "base_uri": "https://localhost:8080/",
          "height": 557
        },
        "id": "FOZNQhLhze4b",
        "outputId": "8597e04d-ba03-40f3-f298-2e96d6eb7101"
      },
      "outputs": [
        {
          "data": {
            "text/html": [
              "\n",
              "  <div id=\"df-dbfae676-e10c-4e29-b928-125128dd1677\">\n",
              "    <div class=\"colab-df-container\">\n",
              "      <div>\n",
              "<style scoped>\n",
              "    .dataframe tbody tr th:only-of-type {\n",
              "        vertical-align: middle;\n",
              "    }\n",
              "\n",
              "    .dataframe tbody tr th {\n",
              "        vertical-align: top;\n",
              "    }\n",
              "\n",
              "    .dataframe thead th {\n",
              "        text-align: right;\n",
              "    }\n",
              "</style>\n",
              "<table border=\"1\" class=\"dataframe\">\n",
              "  <thead>\n",
              "    <tr style=\"text-align: right;\">\n",
              "      <th></th>\n",
              "      <th>text</th>\n",
              "      <th>clean_text</th>\n",
              "      <th>sentiment_results</th>\n",
              "      <th>polarity</th>\n",
              "      <th>subjectivity</th>\n",
              "      <th>sentiment</th>\n",
              "    </tr>\n",
              "  </thead>\n",
              "  <tbody>\n",
              "    <tr>\n",
              "      <th>0</th>\n",
              "      <td>@pattonoswalt It's like saying that covid-19 w...</td>\n",
              "      <td>Its like saying that covid19 wasnt the proble...</td>\n",
              "      <td>{'polarity': -0.2, 'subjectivity': 0.0, 'senti...</td>\n",
              "      <td>-0.200000</td>\n",
              "      <td>0.000000</td>\n",
              "      <td>Negative</td>\n",
              "    </tr>\n",
              "    <tr>\n",
              "      <th>1</th>\n",
              "      <td>World 🌐 COVID-19\\n\\n@corona19_stats \\nhttps://...</td>\n",
              "      <td>World  COVID19</td>\n",
              "      <td>{'polarity': 0.0, 'subjectivity': 0.0, 'sentim...</td>\n",
              "      <td>0.000000</td>\n",
              "      <td>0.000000</td>\n",
              "      <td>Neutral</td>\n",
              "    </tr>\n",
              "    <tr>\n",
              "      <th>2</th>\n",
              "      <td>RT @HermelaBrook: Ethiopia has attracted 2.05 ...</td>\n",
              "      <td>RT Ethiopia has attracted 205 billion $$ in Fo...</td>\n",
              "      <td>{'polarity': -0.008333333333333331, 'subjectiv...</td>\n",
              "      <td>-0.008333</td>\n",
              "      <td>0.258333</td>\n",
              "      <td>Negative</td>\n",
              "    </tr>\n",
              "    <tr>\n",
              "      <th>3</th>\n",
              "      <td>RT @umassmemorial: Here's the COVID-19 testing...</td>\n",
              "      <td>RT Heres the COVID19 testing and vaccine sched...</td>\n",
              "      <td>{'polarity': 0.0, 'subjectivity': 0.0, 'sentim...</td>\n",
              "      <td>0.000000</td>\n",
              "      <td>0.000000</td>\n",
              "      <td>Neutral</td>\n",
              "    </tr>\n",
              "    <tr>\n",
              "      <th>4</th>\n",
              "      <td>RT @japantimes: Tokyo confirmed 2,630 new COVI...</td>\n",
              "      <td>RT Tokyo confirmed 2630 new COVID19 cases on F...</td>\n",
              "      <td>{'polarity': 0.0952020202020202, 'subjectivity...</td>\n",
              "      <td>0.095202</td>\n",
              "      <td>0.560859</td>\n",
              "      <td>Positive</td>\n",
              "    </tr>\n",
              "  </tbody>\n",
              "</table>\n",
              "</div>\n",
              "      <button class=\"colab-df-convert\" onclick=\"convertToInteractive('df-dbfae676-e10c-4e29-b928-125128dd1677')\"\n",
              "              title=\"Convert this dataframe to an interactive table.\"\n",
              "              style=\"display:none;\">\n",
              "        \n",
              "  <svg xmlns=\"http://www.w3.org/2000/svg\" height=\"24px\"viewBox=\"0 0 24 24\"\n",
              "       width=\"24px\">\n",
              "    <path d=\"M0 0h24v24H0V0z\" fill=\"none\"/>\n",
              "    <path d=\"M18.56 5.44l.94 2.06.94-2.06 2.06-.94-2.06-.94-.94-2.06-.94 2.06-2.06.94zm-11 1L8.5 8.5l.94-2.06 2.06-.94-2.06-.94L8.5 2.5l-.94 2.06-2.06.94zm10 10l.94 2.06.94-2.06 2.06-.94-2.06-.94-.94-2.06-.94 2.06-2.06.94z\"/><path d=\"M17.41 7.96l-1.37-1.37c-.4-.4-.92-.59-1.43-.59-.52 0-1.04.2-1.43.59L10.3 9.45l-7.72 7.72c-.78.78-.78 2.05 0 2.83L4 21.41c.39.39.9.59 1.41.59.51 0 1.02-.2 1.41-.59l7.78-7.78 2.81-2.81c.8-.78.8-2.07 0-2.86zM5.41 20L4 18.59l7.72-7.72 1.47 1.35L5.41 20z\"/>\n",
              "  </svg>\n",
              "      </button>\n",
              "      \n",
              "  <style>\n",
              "    .colab-df-container {\n",
              "      display:flex;\n",
              "      flex-wrap:wrap;\n",
              "      gap: 12px;\n",
              "    }\n",
              "\n",
              "    .colab-df-convert {\n",
              "      background-color: #E8F0FE;\n",
              "      border: none;\n",
              "      border-radius: 50%;\n",
              "      cursor: pointer;\n",
              "      display: none;\n",
              "      fill: #1967D2;\n",
              "      height: 32px;\n",
              "      padding: 0 0 0 0;\n",
              "      width: 32px;\n",
              "    }\n",
              "\n",
              "    .colab-df-convert:hover {\n",
              "      background-color: #E2EBFA;\n",
              "      box-shadow: 0px 1px 2px rgba(60, 64, 67, 0.3), 0px 1px 3px 1px rgba(60, 64, 67, 0.15);\n",
              "      fill: #174EA6;\n",
              "    }\n",
              "\n",
              "    [theme=dark] .colab-df-convert {\n",
              "      background-color: #3B4455;\n",
              "      fill: #D2E3FC;\n",
              "    }\n",
              "\n",
              "    [theme=dark] .colab-df-convert:hover {\n",
              "      background-color: #434B5C;\n",
              "      box-shadow: 0px 1px 3px 1px rgba(0, 0, 0, 0.15);\n",
              "      filter: drop-shadow(0px 1px 2px rgba(0, 0, 0, 0.3));\n",
              "      fill: #FFFFFF;\n",
              "    }\n",
              "  </style>\n",
              "\n",
              "      <script>\n",
              "        const buttonEl =\n",
              "          document.querySelector('#df-dbfae676-e10c-4e29-b928-125128dd1677 button.colab-df-convert');\n",
              "        buttonEl.style.display =\n",
              "          google.colab.kernel.accessAllowed ? 'block' : 'none';\n",
              "\n",
              "        async function convertToInteractive(key) {\n",
              "          const element = document.querySelector('#df-dbfae676-e10c-4e29-b928-125128dd1677');\n",
              "          const dataTable =\n",
              "            await google.colab.kernel.invokeFunction('convertToInteractive',\n",
              "                                                     [key], {});\n",
              "          if (!dataTable) return;\n",
              "\n",
              "          const docLinkHtml = 'Like what you see? Visit the ' +\n",
              "            '<a target=\"_blank\" href=https://colab.research.google.com/notebooks/data_table.ipynb>data table notebook</a>'\n",
              "            + ' to learn more about interactive tables.';\n",
              "          element.innerHTML = '';\n",
              "          dataTable['output_type'] = 'display_data';\n",
              "          await google.colab.output.renderOutput(dataTable, element);\n",
              "          const docLink = document.createElement('div');\n",
              "          docLink.innerHTML = docLinkHtml;\n",
              "          element.appendChild(docLink);\n",
              "        }\n",
              "      </script>\n",
              "    </div>\n",
              "  </div>\n",
              "  "
            ],
            "text/plain": [
              "                                                text  \\\n",
              "0  @pattonoswalt It's like saying that covid-19 w...   \n",
              "1  World 🌐 COVID-19\\n\\n@corona19_stats \\nhttps://...   \n",
              "2  RT @HermelaBrook: Ethiopia has attracted 2.05 ...   \n",
              "3  RT @umassmemorial: Here's the COVID-19 testing...   \n",
              "4  RT @japantimes: Tokyo confirmed 2,630 new COVI...   \n",
              "\n",
              "                                          clean_text  \\\n",
              "0   Its like saying that covid19 wasnt the proble...   \n",
              "1                                   World  COVID19     \n",
              "2  RT Ethiopia has attracted 205 billion $$ in Fo...   \n",
              "3  RT Heres the COVID19 testing and vaccine sched...   \n",
              "4  RT Tokyo confirmed 2630 new COVID19 cases on F...   \n",
              "\n",
              "                                   sentiment_results  polarity  subjectivity  \\\n",
              "0  {'polarity': -0.2, 'subjectivity': 0.0, 'senti... -0.200000      0.000000   \n",
              "1  {'polarity': 0.0, 'subjectivity': 0.0, 'sentim...  0.000000      0.000000   \n",
              "2  {'polarity': -0.008333333333333331, 'subjectiv... -0.008333      0.258333   \n",
              "3  {'polarity': 0.0, 'subjectivity': 0.0, 'sentim...  0.000000      0.000000   \n",
              "4  {'polarity': 0.0952020202020202, 'subjectivity...  0.095202      0.560859   \n",
              "\n",
              "  sentiment  \n",
              "0  Negative  \n",
              "1   Neutral  \n",
              "2  Negative  \n",
              "3   Neutral  \n",
              "4  Positive  "
            ]
          },
          "execution_count": 98,
          "metadata": {},
          "output_type": "execute_result"
        }
      ],
      "source": [
        "df.head()"
      ]
    },
    {
      "cell_type": "code",
      "execution_count": null,
      "metadata": {
        "colab": {
          "base_uri": "https://localhost:8080/"
        },
        "id": "7VXSdcBxz2NO",
        "outputId": "2e412459-9237-4795-f21b-f1ed4b91eb73"
      },
      "outputs": [
        {
          "data": {
            "text/plain": [
              "Positive    4275\n",
              "Neutral     3918\n",
              "Negative    1805\n",
              "Name: sentiment, dtype: int64"
            ]
          },
          "execution_count": 99,
          "metadata": {},
          "output_type": "execute_result"
        }
      ],
      "source": [
        "df.sentiment.value_counts()"
      ]
    },
    {
      "cell_type": "code",
      "execution_count": null,
      "metadata": {
        "colab": {
          "base_uri": "https://localhost:8080/",
          "height": 297
        },
        "id": "wvTROMwB0PHs",
        "outputId": "6397b26c-6be3-488f-9ada-d18ad27664f9"
      },
      "outputs": [
        {
          "data": {
            "text/plain": [
              "<matplotlib.axes._subplots.AxesSubplot at 0x7ff993513190>"
            ]
          },
          "execution_count": 100,
          "metadata": {},
          "output_type": "execute_result"
        },
        {
          "data": {
            "image/png": "[encoded data removed]",
            "text/plain": [
              "<Figure size 432x288 with 1 Axes>"
            ]
          },
          "metadata": {
            "needs_background": "light"
          },
          "output_type": "display_data"
        }
      ],
      "source": [
        "sns.countplot(df.sentiment)"
      ]
    },
    {
      "cell_type": "code",
      "execution_count": null,
      "metadata": {
        "id": "scU6jE0YK7UE"
      },
      "outputs": [],
      "source": [
        "df[\"clean_text\"]=df[\"clean_text\"].apply(nfx.remove_stopwords)"
      ]
    },
    {
      "cell_type": "markdown",
      "metadata": {
        "id": "cqMwG9buOEXQ"
      },
      "source": [
        "# sentiment anlysis using Vader"
      ]
    },
    {
      "cell_type": "code",
      "execution_count": null,
      "metadata": {
        "colab": {
          "base_uri": "https://localhost:8080/"
        },
        "id": "i_g_Nad3Pl1R",
        "outputId": "d882f475-4f44-4022-b391-a2352f75a543"
      },
      "outputs": [
        {
          "name": "stderr",
          "output_type": "stream",
          "text": [
            "[nltk_data] Downloading package vader_lexicon to /root/nltk_data...\n"
          ]
        },
        {
          "data": {
            "text/plain": [
              "True"
            ]
          },
          "execution_count": 103,
          "metadata": {},
          "output_type": "execute_result"
        }
      ],
      "source": [
        "import nltk\n",
        "nltk.download('vader_lexicon')"
      ]
    },
    {
      "cell_type": "code",
      "execution_count": null,
      "metadata": {
        "id": "iXRUP7R3PrtT"
      },
      "outputs": [],
      "source": [
        "from nltk.sentiment.vader import SentimentIntensityAnalyzer\n",
        "SIA = SentimentIntensityAnalyzer()"
      ]
    }
  ],
  "metadata": {
    "colab": {
      "collapsed_sections": [],
      "name": "Test.ipynb",
      "provenance": []
    },
    "kernelspec": {
      "display_name": "Python 3.8.10 ('venv': venv)",
      "language": "python",
      "name": "python3"
    },
    "language_info": {
      "name": "python",
      "version": "3.8.10"
    },
    "vscode": {
      "interpreter": {
        "hash": "b2d883c8bd3e6e49837812bcb97c0e5ebdc696ca38fddee559b3f0208fef7d8e"
      }
    }
  },
  "nbformat": 4,
  "nbformat_minor": 0
}
