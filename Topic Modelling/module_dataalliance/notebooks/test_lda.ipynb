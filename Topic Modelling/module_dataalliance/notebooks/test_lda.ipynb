{
 "cells": [
  {
   "cell_type": "code",
   "execution_count": 1,
   "metadata": {},
   "outputs": [],
   "source": [
    "from utils import read_records, create_collection\n",
    "import pandas as pd\n",
    "\n",
    "collection = create_collection(\"test\")\n",
    "tweets = [tweet for tweet in read_records(collection)]\n",
    "df = pd.DataFrame(tweets)\n",
    "df = df.set_index('_id')"
   ]
  },
  {
   "cell_type": "code",
   "execution_count": 2,
   "metadata": {},
   "outputs": [
    {
     "data": {
      "text/html": [
       "<div>\n",
       "<style scoped>\n",
       "    .dataframe tbody tr th:only-of-type {\n",
       "        vertical-align: middle;\n",
       "    }\n",
       "\n",
       "    .dataframe tbody tr th {\n",
       "        vertical-align: top;\n",
       "    }\n",
       "\n",
       "    .dataframe thead th {\n",
       "        text-align: right;\n",
       "    }\n",
       "</style>\n",
       "<table border=\"1\" class=\"dataframe\">\n",
       "  <thead>\n",
       "    <tr style=\"text-align: right;\">\n",
       "      <th></th>\n",
       "      <th>text</th>\n",
       "      <th>withheld</th>\n",
       "    </tr>\n",
       "    <tr>\n",
       "      <th>_id</th>\n",
       "      <th></th>\n",
       "      <th></th>\n",
       "    </tr>\n",
       "  </thead>\n",
       "  <tbody>\n",
       "    <tr>\n",
       "      <th>1531676295154761732</th>\n",
       "      <td>RT @MoCoCouncilMD: Applications for the fourth...</td>\n",
       "      <td>NaN</td>\n",
       "    </tr>\n",
       "    <tr>\n",
       "      <th>1531676283058458630</th>\n",
       "      <td>RT @What46HasDone: President Biden has signed ...</td>\n",
       "      <td>NaN</td>\n",
       "    </tr>\n",
       "    <tr>\n",
       "      <th>1531676282802561024</th>\n",
       "      <td>RT @NHSDigital: Missed our latest blog?\\n\\nSen...</td>\n",
       "      <td>NaN</td>\n",
       "    </tr>\n",
       "    <tr>\n",
       "      <th>1531676271679356928</th>\n",
       "      <td>RT @ScottyUnchained: The government has respon...</td>\n",
       "      <td>NaN</td>\n",
       "    </tr>\n",
       "    <tr>\n",
       "      <th>1531676271024824322</th>\n",
       "      <td>RT @withyoumarktuan: Hello, everyone.\\n\\nThe C...</td>\n",
       "      <td>NaN</td>\n",
       "    </tr>\n",
       "  </tbody>\n",
       "</table>\n",
       "</div>"
      ],
      "text/plain": [
       "                                                                  text  \\\n",
       "_id                                                                      \n",
       "1531676295154761732  RT @MoCoCouncilMD: Applications for the fourth...   \n",
       "1531676283058458630  RT @What46HasDone: President Biden has signed ...   \n",
       "1531676282802561024  RT @NHSDigital: Missed our latest blog?\\n\\nSen...   \n",
       "1531676271679356928  RT @ScottyUnchained: The government has respon...   \n",
       "1531676271024824322  RT @withyoumarktuan: Hello, everyone.\\n\\nThe C...   \n",
       "\n",
       "                    withheld  \n",
       "_id                           \n",
       "1531676295154761732      NaN  \n",
       "1531676283058458630      NaN  \n",
       "1531676282802561024      NaN  \n",
       "1531676271679356928      NaN  \n",
       "1531676271024824322      NaN  "
      ]
     },
     "execution_count": 2,
     "metadata": {},
     "output_type": "execute_result"
    }
   ],
   "source": [
    "from IPython.display import display\n",
    "\n",
    "df.head()"
   ]
  },
  {
   "cell_type": "markdown",
   "metadata": {},
   "source": [
    "### Data preprocessing\n",
    "- Punctuation removal\n",
    "- Lowercasing\n",
    "- Removing hashtags & mentions\n",
    "- Removing links\n",
    "\n",
    "- Tokenization\n",
    "- Removing Stop words\n",
    "- Stemming/Lemmatization"
   ]
  },
  {
   "cell_type": "markdown",
   "metadata": {},
   "source": [
    "### LDA Hyperparameters\n",
    "\n",
    "- Alpha - higher means documents are assumed to be made up of more topics - try 0.1\n",
    "- Beta - controls distribution of words per topic, higher means topics have more words\n",
    "\n",
    "*default = 1.0 for both*\n",
    "\n",
    "\n"
   ]
  },
  {
   "cell_type": "code",
   "execution_count": 3,
   "metadata": {},
   "outputs": [
    {
     "name": "stdout",
     "output_type": "stream",
     "text": [
      "_id\n",
      "1531676295154761732    RT @MoCoCouncilMD: Applications for the fourth...\n",
      "1531676283058458630    RT @What46HasDone: President Biden has signed ...\n",
      "1531676282802561024    RT @NHSDigital: Missed our latest blog?\\n\\nSen...\n",
      "1531676271679356928    RT @ScottyUnchained: The government has respon...\n",
      "1531676271024824322    RT @withyoumarktuan: Hello, everyone.\\n\\nThe C...\n",
      "Name: text, dtype: object\n",
      "<class 'pandas.core.series.Series'>\n"
     ]
    }
   ],
   "source": [
    "# creating a series\n",
    "\n",
    "serie = df['text']\n",
    "\n",
    "print(serie.head())\n",
    "print(type(serie))"
   ]
  },
  {
   "cell_type": "code",
   "execution_count": 4,
   "metadata": {},
   "outputs": [
    {
     "data": {
      "text/plain": [
       "_id\n",
       "1531676295154761732      applications for the fourth round of montgom...\n",
       "1531676283058458630      president biden has signed 129 bills into la...\n",
       "1531676282802561024      missed our latest blogsenior content designe...\n",
       "1531676271679356928      the government has responded to the petition...\n",
       "1531676271024824322      hello everyonethe covid-19 situation in thai...\n",
       "1531676269640929282      the importance of understanding the stages o...\n",
       "1531676264523702272      \"i think it's outrageous that we as a countr...\n",
       "1531676263953440768      messi has #longcovid “the argentine tested p...\n",
       "1531676260245676041    \"covid-19 helped sex workers in belgium make h...\n",
       "1531676258274185217      hello everyonethe covid-19 situation in thai...\n",
       "Name: text, dtype: object"
      ]
     },
     "execution_count": 4,
     "metadata": {},
     "output_type": "execute_result"
    }
   ],
   "source": [
    "import re\n",
    "\n",
    "def clean_tweet(pandas_series):\n",
    "    '''Returns a cleaned Pandas Series object with the following changes:\n",
    "    1- Removal of hashtags, new lines, retweet mentions, links and punctuation;\n",
    "    2- lowercasing.\n",
    "    '''\n",
    "    regex_transformations = [r'\\n','(https?:\\/\\/)?([\\da-z\\.-]+)\\.([a-z\\.]{2,6})([\\/\\w\\.-]*)',\n",
    "                             'RT', '@[A-Za-z0-9\\.-_:]+', '[,\\.!?:;/]']\n",
    "\n",
    "    for regex in regex_transformations:\n",
    "        pandas_series = pandas_series.map(lambda x: re.sub(regex, '', x))\n",
    "\n",
    "    pandas_series = pandas_series.map(lambda x: x.lower())\n",
    "    \n",
    "    return pandas_series\n",
    "\n",
    "s = clean_tweet(serie)\n",
    "\n",
    "s.head(10)"
   ]
  },
  {
   "cell_type": "code",
   "execution_count": 4,
   "metadata": {},
   "outputs": [
    {
     "data": {
      "text/plain": [
       "_id\n",
       "1531676295154761732      applications for the fourth round of montgom...\n",
       "1531676283058458630      president biden has signed 129 bills into la...\n",
       "1531676282802561024      missed our latest blog  senior content desig...\n",
       "1531676271679356928      the government has responded to the petition...\n",
       "1531676271024824322      hello everyone  the covid-19 situation in th...\n",
       "1531676269640929282      the importance of understanding the stages o...\n",
       "1531676264523702272      \"i think it's outrageous that we as a countr...\n",
       "1531676263953440768      messi has #longcovid   “the argentine tested...\n",
       "1531676260245676041    \"covid-19 helped sex workers in belgium make h...\n",
       "1531676258274185217      hello everyone  the covid-19 situation in th...\n",
       "Name: clean_text, dtype: object"
      ]
     },
     "execution_count": 4,
     "metadata": {},
     "output_type": "execute_result"
    }
   ],
   "source": [
    "# Removing hashtags & mentions, links, punctuation & lowercasing\n",
    "import re\n",
    "\n",
    "# creating clean column\n",
    "df['clean_text'] = df['text']\n",
    "\n",
    "# remove new lines\n",
    "df['clean_text'] = df['clean_text'].map(lambda x: re.sub('\\n', ' ', x))\n",
    "# removing links\n",
    "df['clean_text'] = df['clean_text'].map(lambda x: re.sub('(https?:\\/\\/)?([\\da-z\\.-]+)\\.([a-z\\.]{2,6})([\\/\\w\\.-]*)', '', x))\n",
    "# removing RT (retweets)\n",
    "df['clean_text'] = df['clean_text'].map(lambda x: re.sub('RT', '', x))\n",
    "# removing mentions (ex: @user123)\n",
    "df['clean_text'] = df['clean_text'].map(lambda x: re.sub('@[A-Za-z0-9\\.-_:]+', '', x))\n",
    "# remove punctuation\n",
    "df['clean_text'] =  df['clean_text'].map(lambda x: re.sub('[,\\.!?]', '', x))\n",
    "# lowercase\n",
    "df['clean_text'] = df['clean_text'].map(lambda x: x.lower())\n",
    "\n",
    "df['clean_text'].head(10)"
   ]
  },
  {
   "cell_type": "code",
   "execution_count": 5,
   "metadata": {},
   "outputs": [
    {
     "name": "stdout",
     "output_type": "stream",
     "text": [
      "['applications', 'for', 'the', 'fourth', 'round', 'of', 'montgomery', 'county', 'covid', 'rent', 'relief', 'program', 'are', 'now', 'open', 'and', 'available', 'for']\n"
     ]
    }
   ],
   "source": [
    "# tokenization\n",
    "import gensim\n",
    "from gensim.utils import simple_preprocess\n",
    "\n",
    "def tweet_to_words(tweets):\n",
    "    for tweet in tweets:\n",
    "        yield(gensim.utils.simple_preprocess(str(tweet), deacc=True))\n",
    "        # deacc=True removes punctuation\n",
    "\n",
    "data = df.clean_text.values.tolist()\n",
    "data_words = list(tweet_to_words(data))\n",
    "\n",
    "print(data_words[:1][0][:30])"
   ]
  },
  {
   "cell_type": "code",
   "execution_count": 6,
   "metadata": {},
   "outputs": [],
   "source": [
    "# Bigram and Trigram models\n",
    "\n",
    "# build the models\n",
    "bigram = gensim.models.Phrases(data_words, min_count=5, threshold=100) # higher threshold fewer phrases.\n",
    "trigram = gensim.models.Phrases(bigram[data_words], threshold=100)\n",
    "\n",
    "# Faster way to get a sentence clubbed as a trigram/bigram\n",
    "bigram_mod = gensim.models.phrases.Phraser(bigram)\n",
    "trigram_mod = gensim.models.phrases.Phraser(trigram)"
   ]
  },
  {
   "cell_type": "code",
   "execution_count": 7,
   "metadata": {},
   "outputs": [
    {
     "name": "stderr",
     "output_type": "stream",
     "text": [
      "[nltk_data] Downloading package stopwords to\n",
      "[nltk_data]     /home/devilgoncalo/nltk_data...\n",
      "[nltk_data]   Package stopwords is already up-to-date!\n"
     ]
    },
    {
     "name": "stdout",
     "output_type": "stream",
     "text": [
      "[['application', 'fourth', 'round', 'county', 'rent', 'relief', 'program', 'open', 'available']]\n"
     ]
    }
   ],
   "source": [
    "# Remove stopwords, make bigrams and lemmatization\n",
    "import nltk\n",
    "from nltk.corpus import stopwords\n",
    "import spacy\n",
    "\n",
    "nltk.download('stopwords')\n",
    "\n",
    "stop_words = stopwords.words('english')\n",
    "stop_words.extend(['from', 'subject', 're', 'edu', 'use'])\n",
    "\n",
    "# Define functions for stopwords, bigrams, trigrams and lemmatization\n",
    "def remove_stopwords(texts):\n",
    "    return [[word for word in simple_preprocess(str(doc)) if word not in stop_words] for doc in texts]\n",
    "\n",
    "def make_bigrams(texts):\n",
    "    return [bigram_mod[doc] for doc in texts]\n",
    "\n",
    "def make_trigrams(texts):\n",
    "    return [trigram_mod[bigram_mod[doc]] for doc in texts]\n",
    "\n",
    "def lemmatization(texts, allowed_postags=['NOUN', 'ADJ', 'VERB', 'ADV']):\n",
    "    \"\"\"https://spacy.io/api/annotation\"\"\"\n",
    "    texts_out = []\n",
    "    for sent in texts:\n",
    "        doc = nlp(\" \".join(sent)) \n",
    "        texts_out.append([token.lemma_ for token in doc if token.pos_ in allowed_postags])\n",
    "    return texts_out\n",
    "\n",
    "\n",
    "# Remove Stop Words\n",
    "data_words_nostops = remove_stopwords(data_words)\n",
    "\n",
    "# Form Bigrams\n",
    "data_words_bigrams = make_bigrams(data_words_nostops)\n",
    "\n",
    "# Initialize spacy 'en' model, keeping only tagger component (for efficiency)\n",
    "nlp = spacy.load(\"en_core_web_sm\", disable=['parser', 'ner'])\n",
    "\n",
    "# Do lemmatization keeping only noun, adj, vb, adv\n",
    "data_lemmatized = lemmatization(data_words_bigrams, \n",
    "                                allowed_postags=['NOUN', 'ADJ', 'VERB', 'ADV'])\n",
    "\n",
    "print(data_lemmatized[:1])"
   ]
  },
  {
   "cell_type": "code",
   "execution_count": 8,
   "metadata": {},
   "outputs": [
    {
     "name": "stdout",
     "output_type": "stream",
     "text": [
      "[[(0, 1), (1, 1), (2, 1), (3, 1), (4, 1), (5, 1), (6, 1), (7, 1), (8, 1)]]\n"
     ]
    }
   ],
   "source": [
    "# Corpus and dictionary\n",
    "import gensim.corpora as corpora\n",
    "\n",
    "# Create Dictionary\n",
    "id2word = corpora.Dictionary(data_lemmatized)\n",
    "\n",
    "# Create Corpus\n",
    "texts = data_lemmatized\n",
    "\n",
    "# Term Document Frequency\n",
    "corpus = [id2word.doc2bow(text) for text in texts]\n",
    "\n",
    "# View\n",
    "print(corpus[:1])"
   ]
  },
  {
   "cell_type": "markdown",
   "metadata": {},
   "source": [
    "### GSDMM"
   ]
  },
  {
   "cell_type": "code",
   "execution_count": 10,
   "metadata": {},
   "outputs": [
    {
     "name": "stdout",
     "output_type": "stream",
     "text": [
      "In stage 0: transferred 124403 clusters with 15 clusters populated\n",
      "In stage 1: transferred 77457 clusters with 15 clusters populated\n",
      "In stage 2: transferred 42642 clusters with 15 clusters populated\n",
      "In stage 3: transferred 25129 clusters with 15 clusters populated\n",
      "In stage 4: transferred 18664 clusters with 15 clusters populated\n",
      "In stage 5: transferred 15960 clusters with 15 clusters populated\n",
      "In stage 6: transferred 14495 clusters with 15 clusters populated\n",
      "In stage 7: transferred 13788 clusters with 15 clusters populated\n",
      "In stage 8: transferred 12915 clusters with 15 clusters populated\n",
      "In stage 9: transferred 12423 clusters with 15 clusters populated\n",
      "In stage 10: transferred 11944 clusters with 15 clusters populated\n",
      "In stage 11: transferred 11752 clusters with 15 clusters populated\n",
      "In stage 12: transferred 11640 clusters with 15 clusters populated\n",
      "In stage 13: transferred 11453 clusters with 15 clusters populated\n",
      "In stage 14: transferred 11334 clusters with 15 clusters populated\n"
     ]
    }
   ],
   "source": [
    "# importing libraries\n",
    "import pandas as pd\n",
    "import numpy as np\n",
    "import gensim\n",
    "from gsdmm import MovieGroupProcess\n",
    "\n",
    "# cast tweets to numpy array\n",
    "# docs = texts.to_numpy()\n",
    "\n",
    "# create variable containing length of dictionary/vocab\n",
    "vocab_length = len(id2word)\n",
    "\n",
    "# initialize GSDMM\n",
    "gsdmm = MovieGroupProcess(K=15, alpha=0.1, beta=0.3, n_iters=15)\n",
    "\n",
    "# fit GSDMM model\n",
    "y = gsdmm.fit(texts, vocab_length)"
   ]
  },
  {
   "cell_type": "code",
   "execution_count": 11,
   "metadata": {},
   "outputs": [
    {
     "name": "stdout",
     "output_type": "stream",
     "text": [
      "Number of documents per topic : [ 5783 11976  4762 25076 27297  6402  2729 12455  5041  7804  4085  3537\n",
      "  5324 15438  2360]\n",
      "Most important clusters (by number of docs inside): [ 4  3 13  7  1  9  5  0 12  8  2 10 11  6 14]\n",
      "\n",
      "Cluster 4 : [('war', 9962), ('price', 4469), ('go', 2336), ('say', 2176), ('ukraine', 2063), ('people', 1939), ('logistic', 1896), ('get', 1862), ('country', 1489), ('make', 1379), ('russian', 1377), ('weapon', 1252), ('want', 1223), ('think', 1210), ('know', 1063), ('take', 1062), ('time', 1042), ('ukrainian', 1020), ('year', 996), ('need', 934)]\n",
      "\n",
      "Cluster 3 : [('football', 15053), ('get', 2233), ('play', 2031), ('player', 1979), ('club', 1911), ('team', 1838), ('go', 1711), ('good', 1579), ('game', 1523), ('year', 1325), ('price', 1239), ('fan', 1198), ('people', 1179), ('day', 1150), ('know', 1111), ('season', 1088), ('time', 1067), ('make', 1057), ('think', 1032), ('see', 1007)]\n",
      "\n",
      "Cluster 13 : [('covid', 10271), ('vaccine', 2188), ('pandemic', 1598), ('people', 1346), ('get', 1271), ('health', 903), ('take', 766), ('say', 759), ('year', 689), ('amp', 665), ('vaccination', 640), ('death', 635), ('test', 606), ('case', 606), ('new', 563), ('child', 549), ('report', 549), ('patient', 543), ('day', 543), ('long', 509)]\n",
      "\n",
      "Cluster 7 : [('logistic', 6254), ('price', 2263), ('amp', 795), ('new', 789), ('company', 756), ('good', 742), ('service', 708), ('business', 663), ('need', 660), ('sell', 639), ('market', 634), ('get', 633), ('job', 602), ('covid', 549), ('look', 537), ('supplychain', 509), ('work', 481), ('make', 480), ('want', 477), ('today', 471)]\n",
      "\n",
      "Cluster 1 : [('price', 10024), ('eth', 2019), ('amp', 1932), ('club', 1382), ('floor', 1374), ('spot', 1314), ('buy', 1140), ('last', 983), ('nft', 844), ('get', 698), ('current', 697), ('time', 673), ('mint', 629), ('bitcoin', 584), ('hour', 575), ('go', 560), ('collection', 555), ('follow', 554), ('live', 485), ('sell', 467)]\n",
      "\n",
      "Cluster 9 : [('pleasure', 3419), ('gemini', 3418), ('covid', 1528), ('still', 1168), ('situation', 1081), ('getting_much', 1081), ('well', 1025), ('like', 989), ('remind_everyon', 987), ('say', 838), ('supply', 811), ('may_lead', 678), ('price', 385), ('day', 269), ('war', 257), ('ukraine', 208), ('month', 173), ('end', 162), ('follow', 145), ('advocate', 144)]\n",
      "\n",
      "Cluster 5 : [('world', 2929), ('real_life', 2343), ('enter', 2265), ('new', 2160), ('entire', 2114), ('best_defender', 2114), ('metaverse_find', 2114), ('price', 1589), ('manchester_unite', 1046), ('wait', 777), ('barca', 703), ('talk', 689), ('jong', 600), ('opened_direct', 567), ('tag_around', 559), ('opening', 547), ('football', 525), ('floor', 449), ('giveaway', 446), ('eth_enter', 436)]\n",
      "\n",
      "Cluster 0 : [('price', 2946), ('available', 1025), ('new', 965), ('brand', 784), ('share', 733), ('trading', 672), ('excite', 650), ('celebra', 644), ('dm', 458), ('amp', 434), ('sell', 349), ('want', 324), ('follow', 324), ('know', 283), ('size', 280), ('war', 273), ('continue', 259), ('set', 237), ('tigray', 237), ('eth', 216)]\n",
      "\n",
      "Cluster 12 : [('price', 2617), ('target', 1885), ('top_analyst', 1575), ('today', 1129), ('football', 454), ('european_union', 440), ('tigray', 427), ('war', 422), ('lawsuit', 353), ('fantasy', 338), ('commissioner', 336), ('council', 314), ('officially_file', 305), ('imposed_sanction', 305), ('ev', 303), ('eor', 254), ('eritrean_troop', 236), ('buy', 210), ('next', 208), ('leave', 203)]\n",
      "\n",
      "Cluster 8 : [('live', 1162), ('tigray', 1043), ('war', 1041), ('people', 1037), ('get', 923), ('force', 914), ('football', 904), ('time', 841), ('box', 815), ('nft', 814), ('want', 811), ('titan_box', 810), ('try', 808), ('sing', 807), ('see', 789), ('basten', 768), ('watch_someone', 767), ('sale', 711), ('titan', 703), ('farming_racin', 703)]\n",
      "\n",
      "Cluster 2 : [('price', 2198), ('covid', 1417), ('case', 1242), ('gas', 771), ('new', 667), ('high', 659), ('month', 465), ('rise', 432), ('death', 420), ('pay', 406), ('increase', 397), ('report', 391), ('time', 377), ('amp', 362), ('year', 360), ('cost', 319), ('last', 275), ('continue', 275), ('today', 273), ('policy', 241)]\n",
      "\n",
      "Cluster 10 : [('war', 1177), ('covid', 1166), ('truth', 1042), ('term', 967), ('moment', 946), ('substitution', 945), ('show', 365), ('plan', 348), ('event', 347), ('house', 329), ('concert', 305), ('babe', 303), ('ever_tried', 302), ('drop_money', 302), ('logistic', 298), ('vaccination', 285), ('decision', 264), ('fire', 250), ('take', 242), ('new', 228)]\n",
      "\n",
      "Cluster 11 : [('price', 1948), ('gas', 1256), ('gouge', 930), ('crack', 876), ('pump', 818), ('weekend', 764), ('recently_vote', 754), ('every_singl', 748), ('vote', 595), ('oil', 399), ('bill', 365), ('company', 360), ('gouging', 344), ('war', 313), ('stop', 245), ('logistic', 164), ('amp', 159), ('make', 155), ('people', 148), ('gun', 141)]\n",
      "\n",
      "Cluster 6 : [('price', 606), ('war', 519), ('use', 353), ('logistic', 278), ('blockade', 272), ('crime', 260), ('tigray', 242), ('weapon', 229), ('get', 216), ('humanity_targete', 199), ('tigrayans_agricultural', 196), ('input', 196), ('ukraine', 175), ('bnb', 175), ('good', 159), ('provide', 151), ('edge', 150), ('give', 142), ('see', 140), ('deliberately_avoide', 139)]\n",
      "\n",
      "Cluster 14 : [('come', 407), ('register', 384), ('coordinator', 378), ('church', 375), ('lobbied', 374), ('inec_registration', 374), ('local_government', 374), ('price', 237), ('russian', 184), ('logistic', 179), ('war', 174), ('covid', 164), ('meet', 155), ('fight', 131), ('amp', 122), ('first', 108), ('theft', 105), ('supervise', 101), ('allegedly', 97), ('stop', 85)]\n"
     ]
    }
   ],
   "source": [
    "# print number of documents per topic\n",
    "doc_count = np.array(gsdmm.cluster_doc_count)\n",
    "print('Number of documents per topic :', doc_count)\n",
    "\n",
    "# Topics sorted by the number of document they are allocated to\n",
    "top_index = doc_count.argsort()[-15:][::-1]\n",
    "print('Most important clusters (by number of docs inside):', top_index)\n",
    "\n",
    "# define function to get top words per topic\n",
    "def top_words(cluster_word_distribution, top_cluster, values):\n",
    "    for cluster in top_cluster:\n",
    "        sort_dicts = sorted(cluster_word_distribution[cluster].items(), key=lambda k: k[1], reverse=True)[:values]\n",
    "        print(\"\\nCluster %s : %s\"%(cluster, sort_dicts))\n",
    "\n",
    "# get top words in topics\n",
    "top_words(gsdmm.cluster_word_distribution, top_index, 20)"
   ]
  },
  {
   "cell_type": "code",
   "execution_count": 12,
   "metadata": {},
   "outputs": [
    {
     "ename": "NameError",
     "evalue": "name 'topic_number' is not defined",
     "output_type": "error",
     "traceback": [
      "\u001b[0;31m---------------------------------------------------------------------------\u001b[0m",
      "\u001b[0;31mNameError\u001b[0m                                 Traceback (most recent call last)",
      "\u001b[1;32m/home/devilgoncalo/Westbrook/Documents/srh_masters/case_studies_1/dataalliance/test_lda.ipynb Cell 15'\u001b[0m in \u001b[0;36m<cell line: 9>\u001b[0;34m()\u001b[0m\n\u001b[1;32m      <a href='vscode-notebook-cell://wsl%2Bubuntu/home/devilgoncalo/Westbrook/Documents/srh_masters/case_studies_1/dataalliance/test_lda.ipynb#ch0000021vscode-remote?line=5'>6</a>\u001b[0m cluster_word_distribution \u001b[39m=\u001b[39m gsdmm\u001b[39m.\u001b[39mcluster_word_distribution\n\u001b[1;32m      <a href='vscode-notebook-cell://wsl%2Bubuntu/home/devilgoncalo/Westbrook/Documents/srh_masters/case_studies_1/dataalliance/test_lda.ipynb#ch0000021vscode-remote?line=7'>8</a>\u001b[0m \u001b[39m# Select topic you want to output as dictionary (using topic_number)\u001b[39;00m\n\u001b[0;32m----> <a href='vscode-notebook-cell://wsl%2Bubuntu/home/devilgoncalo/Westbrook/Documents/srh_masters/case_studies_1/dataalliance/test_lda.ipynb#ch0000021vscode-remote?line=8'>9</a>\u001b[0m topic_dict \u001b[39m=\u001b[39m \u001b[39msorted\u001b[39m(cluster_word_distribution[topic_number]\u001b[39m.\u001b[39mitems(), key\u001b[39m=\u001b[39m\u001b[39mlambda\u001b[39;00m k: k[\u001b[39m1\u001b[39m], reverse\u001b[39m=\u001b[39m\u001b[39mTrue\u001b[39;00m)[:values]\n\u001b[1;32m     <a href='vscode-notebook-cell://wsl%2Bubuntu/home/devilgoncalo/Westbrook/Documents/srh_masters/case_studies_1/dataalliance/test_lda.ipynb#ch0000021vscode-remote?line=10'>11</a>\u001b[0m \u001b[39m# Generate a word cloud image\u001b[39;00m\n\u001b[1;32m     <a href='vscode-notebook-cell://wsl%2Bubuntu/home/devilgoncalo/Westbrook/Documents/srh_masters/case_studies_1/dataalliance/test_lda.ipynb#ch0000021vscode-remote?line=11'>12</a>\u001b[0m wordcloud \u001b[39m=\u001b[39m WordCloud(background_color\u001b[39m=\u001b[39m\u001b[39m'\u001b[39m\u001b[39m#fcf2ed\u001b[39m\u001b[39m'\u001b[39m, \n\u001b[1;32m     <a href='vscode-notebook-cell://wsl%2Bubuntu/home/devilgoncalo/Westbrook/Documents/srh_masters/case_studies_1/dataalliance/test_lda.ipynb#ch0000021vscode-remote?line=12'>13</a>\u001b[0m                             width\u001b[39m=\u001b[39m\u001b[39m1800\u001b[39m,\n\u001b[1;32m     <a href='vscode-notebook-cell://wsl%2Bubuntu/home/devilgoncalo/Westbrook/Documents/srh_masters/case_studies_1/dataalliance/test_lda.ipynb#ch0000021vscode-remote?line=13'>14</a>\u001b[0m                             height\u001b[39m=\u001b[39m\u001b[39m700\u001b[39m,\n\u001b[1;32m     <a href='vscode-notebook-cell://wsl%2Bubuntu/home/devilgoncalo/Westbrook/Documents/srh_masters/case_studies_1/dataalliance/test_lda.ipynb#ch0000021vscode-remote?line=14'>15</a>\u001b[0m                             font_path\u001b[39m=\u001b[39mpath_to_font,\n\u001b[1;32m     <a href='vscode-notebook-cell://wsl%2Bubuntu/home/devilgoncalo/Westbrook/Documents/srh_masters/case_studies_1/dataalliance/test_lda.ipynb#ch0000021vscode-remote?line=15'>16</a>\u001b[0m                             colormap\u001b[39m=\u001b[39m\u001b[39m'\u001b[39m\u001b[39mflag\u001b[39m\u001b[39m'\u001b[39m)\u001b[39m.\u001b[39mgenerate_from_frequencies(topic_dict)\n",
      "\u001b[0;31mNameError\u001b[0m: name 'topic_number' is not defined"
     ]
    }
   ],
   "source": [
    "# Import wordcloud library\n",
    "from wordcloud import WordCloud\n",
    "import matplotlib.pyplot as plt\n",
    "\n",
    "# Get topic word distributions from gsdmm model\n",
    "cluster_word_distribution = gsdmm.cluster_word_distribution\n",
    "\n",
    "# Select topic you want to output as dictionary (using topic_number)\n",
    "topic_dict = sorted(cluster_word_distribution[topic_number].items(), key=lambda k: k[1], reverse=True)[:values]\n",
    "\n",
    "# Generate a word cloud image\n",
    "wordcloud = WordCloud(background_color='#fcf2ed', \n",
    "                            width=1800,\n",
    "                            height=700,\n",
    "                            font_path=path_to_font,\n",
    "                            colormap='flag').generate_from_frequencies(topic_dict)\n",
    "\n",
    "# Print to screen\n",
    "fig, ax = plt.subplots(figsize=[20,10])\n",
    "plt.imshow(wordcloud, interpolation='bilinear')\n",
    "plt.axis(\"off\")"
   ]
  },
  {
   "cell_type": "markdown",
   "metadata": {},
   "source": [
    "### LDA"
   ]
  },
  {
   "cell_type": "code",
   "execution_count": 10,
   "metadata": {},
   "outputs": [
    {
     "name": "stdout",
     "output_type": "stream",
     "text": [
      "[(0,\n",
      "  '0.031*\"world\" + 0.026*\"new\" + 0.020*\"real_life\" + 0.019*\"enter\" + '\n",
      "  '0.019*\"target\" + 0.018*\"entire\" + 0.018*\"people\" + 0.017*\"metaverse_find\" + '\n",
      "  '0.017*\"best_defender\" + 0.016*\"covid\"'),\n",
      " (1,\n",
      "  '0.022*\"still\" + 0.021*\"oil\" + 0.020*\"vote\" + 0.019*\"well\" + 0.014*\"company\" '\n",
      "  '+ 0.014*\"love\" + 0.011*\"set\" + 0.011*\"way\" + 0.011*\"gouging\" + '\n",
      "  '0.011*\"market\"'),\n",
      " (2,\n",
      "  '0.074*\"football\" + 0.018*\"get\" + 0.015*\"sale\" + 0.015*\"logistic\" + '\n",
      "  '0.015*\"time\" + 0.014*\"go\" + 0.010*\"price\" + 0.010*\"box\" + 0.009*\"good\" + '\n",
      "  '0.009*\"team\"'),\n",
      " (3,\n",
      "  '0.048*\"war\" + 0.020*\"pleasure\" + 0.019*\"gemini\" + 0.017*\"want\" + '\n",
      "  '0.017*\"gas\" + 0.013*\"sell\" + 0.013*\"make\" + 0.012*\"price\" + 0.010*\"talk\" + '\n",
      "  '0.009*\"say\"'),\n",
      " (4,\n",
      "  '0.153*\"price\" + 0.018*\"live\" + 0.017*\"amp\" + 0.016*\"club\" + 0.014*\"eth\" + '\n",
      "  '0.012*\"floor\" + 0.011*\"high\" + 0.010*\"get\" + 0.010*\"buy\" + 0.008*\"last\"')]\n"
     ]
    }
   ],
   "source": [
    "# Build LDA model\n",
    "lda_model = gensim.models.LdaMulticore(corpus=corpus,\n",
    "                                       id2word=id2word,\n",
    "                                       num_topics=5, \n",
    "                                       random_state=100,\n",
    "                                       chunksize=100,\n",
    "                                       passes=10,\n",
    "                                       per_word_topics=True)\n",
    "\n",
    "from pprint import pprint\n",
    "\n",
    "# Print the Keyword in the 10 topics\n",
    "pprint(lda_model.print_topics())\n",
    "doc_lda = lda_model[corpus]"
   ]
  },
  {
   "cell_type": "code",
   "execution_count": 12,
   "metadata": {},
   "outputs": [
    {
     "name": "stdout",
     "output_type": "stream",
     "text": [
      "\n",
      "Perplexity:  -8.380162397886737\n",
      "\n",
      "Coherence Score:  -6.604959767114778\n"
     ]
    }
   ],
   "source": [
    "# Measure models coherence score\n",
    "from gensim.models import CoherenceModel\n",
    "\n",
    "# Compute Perplexity\n",
    "print('\\nPerplexity: ', lda_model.log_perplexity(corpus))  # a measure of how good the model is. lower the better.\n",
    "\n",
    "# Compute Coherence Score\n",
    "coherence_model_lda = CoherenceModel(model=lda_model, texts=data_lemmatized, dictionary=id2word, coherence='u_mass') \n",
    "#'c_v' is the best coherence score, but slow\n",
    "\n",
    "coherence_lda = coherence_model_lda.get_coherence()\n",
    "print('\\nCoherence Score: ', coherence_lda)"
   ]
  },
  {
   "cell_type": "code",
   "execution_count": 11,
   "metadata": {},
   "outputs": [
    {
     "name": "stderr",
     "output_type": "stream",
     "text": [
      "/home/devilgoncalo/Westbrook/Documents/srh_masters/case_studies_1/dataalliance/venv/lib/python3.8/site-packages/past/builtins/misc.py:45: DeprecationWarning: the imp module is deprecated in favour of importlib; see the module's documentation for alternative uses\n",
      "  from imp import reload\n",
      "/home/devilgoncalo/Westbrook/Documents/srh_masters/case_studies_1/dataalliance/venv/lib/python3.8/site-packages/pyLDAvis/_prepare.py:246: FutureWarning: In a future version of pandas all arguments of DataFrame.drop except for the argument 'labels' will be keyword-only.\n",
      "  default_term_info = default_term_info.sort_values(\n",
      "/home/devilgoncalo/Westbrook/Documents/srh_masters/case_studies_1/dataalliance/venv/lib/python3.8/site-packages/past/builtins/misc.py:45: DeprecationWarning: the imp module is deprecated in favour of importlib; see the module's documentation for alternative uses\n",
      "  from imp import reload\n",
      "/home/devilgoncalo/Westbrook/Documents/srh_masters/case_studies_1/dataalliance/venv/lib/python3.8/site-packages/past/builtins/misc.py:45: DeprecationWarning: the imp module is deprecated in favour of importlib; see the module's documentation for alternative uses\n",
      "  from imp import reload\n",
      "/home/devilgoncalo/Westbrook/Documents/srh_masters/case_studies_1/dataalliance/venv/lib/python3.8/site-packages/past/builtins/misc.py:45: DeprecationWarning: the imp module is deprecated in favour of importlib; see the module's documentation for alternative uses\n",
      "  from imp import reload\n",
      "/home/devilgoncalo/Westbrook/Documents/srh_masters/case_studies_1/dataalliance/venv/lib/python3.8/site-packages/past/builtins/misc.py:45: DeprecationWarning: the imp module is deprecated in favour of importlib; see the module's documentation for alternative uses\n",
      "  from imp import reload\n"
     ]
    },
    {
     "data": {
      "text/html": [
       "\n",
       "<link rel=\"stylesheet\" type=\"text/css\" href=\"https://cdn.jsdelivr.net/gh/bmabey/pyLDAvis@3.3.1/pyLDAvis/js/ldavis.v1.0.0.css\">\n",
       "\n",
       "\n",
       "<div id=\"ldavis_el1511400913783106085653663271\"></div>\n",
       "<script type=\"text/javascript\">\n",
       "\n",
       "var ldavis_el1511400913783106085653663271_data = {\"mdsDat\": {\"x\": [0.07701199420373916, 0.14425083145214188, 0.20108780161239243, -0.0676530395068236, -0.3546975877614497], \"y\": [0.022762363321708307, -0.1671548833088456, -0.04672693631560656, 0.3467931494826373, -0.15567369317989344], \"topics\": [1, 2, 3, 4, 5], \"cluster\": [1, 1, 1, 1, 1], \"Freq\": [24.984444975368714, 23.9391419165077, 20.892851007637628, 19.00879152200042, 11.17477057848554]}, \"tinfo\": {\"Term\": [\"price\", \"football\", \"war\", \"world\", \"pleasure\", \"gemini\", \"new\", \"real_life\", \"enter\", \"want\", \"live\", \"target\", \"amp\", \"entire\", \"gas\", \"still\", \"metaverse_find\", \"best_defender\", \"club\", \"oil\", \"sale\", \"vote\", \"logistic\", \"well\", \"eth\", \"player\", \"sell\", \"people\", \"make\", \"spot\", \"war\", \"pleasure\", \"gemini\", \"want\", \"gas\", \"sell\", \"make\", \"talk\", \"never\", \"next\", \"force\", \"season\", \"child\", \"send\", \"inflation\", \"lose\", \"civil\", \"share\", \"pump\", \"sign\", \"gouge\", \"food\", \"dm\", \"ask\", \"vaccine\", \"mean\", \"weekend\", \"crack\", \"deal\", \"kid\", \"russian\", \"appeal\", \"eth_enter\", \"ukraine\", \"right\", \"much\", \"ukrainian\", \"tigray\", \"say\", \"country\", \"go\", \"stop\", \"take\", \"get\", \"people\", \"price\", \"play\", \"come\", \"covid\", \"think\", \"football\", \"sale\", \"box\", \"team\", \"titan_box\", \"titan\", \"wait\", \"win\", \"collection\", \"jong\", \"open\", \"announce\", \"opening\", \"lot\", \"tweet\", \"coach\", \"usd\", \"project\", \"opened_direct\", \"event\", \"tag_around\", \"sport\", \"league\", \"gt\", \"trading\", \"fuck\", \"away\", \"do\", \"tag\", \"petrol\", \"farming_racin\", \"create\", \"fantasy\", \"start\", \"logistic\", \"let\", \"part\", \"available\", \"time\", \"go\", \"manchester_unite\", \"get\", \"good\", \"work\", \"nft\", \"year\", \"watch\", \"day\", \"bitcoin\", \"think\", \"come\", \"know\", \"look\", \"give\", \"new\", \"price\", \"need\", \"live\", \"club\", \"eth\", \"floor\", \"high\", \"game\", \"top\", \"increase\", \"current\", \"thank\", \"real\", \"hour\", \"fan\", \"low\", \"list\", \"mint\", \"million\", \"rise\", \"average\", \"btc\", \"update\", \"trade\", \"crypto\", \"point\", \"include\", \"stay\", \"nft_whale\", \"mufc\", \"transactions_nft\", \"history\", \"price\", \"last\", \"buy\", \"month\", \"follow\", \"amp\", \"pay\", \"play\", \"nft\", \"change\", \"get\", \"time\", \"today\", \"good\", \"world\", \"enter\", \"real_life\", \"target\", \"entire\", \"best_defender\", \"metaverse_find\", \"player\", \"top_analyst\", \"spot\", \"supply\", \"weapon\", \"basketball\", \"may_lead\", \"report\", \"woman\", \"understand\", \"job\", \"nba_final\", \"recess\", \"really_treate\", \"sing\", \"problem\", \"basten\", \"watch_someone\", \"little\", \"super\", \"military\", \"die\", \"system\", \"face\", \"new\", \"case\", \"people\", \"covid\", \"block\", \"amp\", \"today\", \"say\", \"see\", \"home\", \"try\", \"day\", \"even\", \"still\", \"oil\", \"vote\", \"well\", \"love\", \"set\", \"gouging\", \"ever\", \"bill\", \"government\", \"kill\", \"ticket\", \"video\", \"stock\", \"energy\", \"build\", \"house\", \"tonight\", \"college\", \"enjoy\", \"fail\", \"chance\", \"round\", \"raise\", \"ship\", \"thread\", \"profit\", \"pick\", \"comment\", \"reminder\", \"gougin\", \"company\", \"order\", \"way\", \"market\", \"free\", \"call\", \"drop\", \"giveaway\", \"stop\", \"logistic\", \"covid\"], \"Freq\": [42586.0, 20128.0, 13755.0, 6811.0, 5570.0, 5548.0, 8251.0, 4268.0, 4184.0, 4958.0, 4374.0, 4049.0, 7257.0, 3995.0, 4746.0, 2811.0, 3655.0, 3655.0, 3810.0, 2718.0, 4102.0, 2586.0, 5268.0, 2484.0, 3390.0, 3150.0, 3763.0, 6341.0, 3591.0, 2987.0, 13754.759954985993, 5569.424198599109, 5547.913700020058, 4957.257307545377, 4745.184627027738, 3762.880097100001, 3590.600510160762, 2771.129444593887, 1800.143439242781, 1549.1864265736128, 1469.5638304928505, 1509.3785833946292, 1439.6990784163709, 1202.8343125090275, 1181.5798723112568, 1163.7575711535055, 1118.3193669305908, 1117.9180714913227, 1071.443674607675, 1064.5867713279274, 1049.8238828171004, 1027.8601329985304, 1019.8160861908286, 936.1417349663027, 881.9283821122247, 879.7109590516988, 861.4944050567591, 858.4413706154921, 817.5580689471983, 775.1950235664242, 1810.2833245656675, 913.7293846831734, 947.9711803919361, 2503.4071854753706, 2008.3624876298852, 1421.6892845881534, 1157.542674136945, 1615.3326713763277, 2605.7640983456686, 1400.327212169917, 2410.759496166811, 1553.5778211686245, 1578.2714430084945, 2515.698785052585, 2108.6660169164043, 3428.575749125525, 1355.54689328469, 1296.6726002069393, 1367.748002069142, 1249.8590953891814, 20127.255242509407, 4101.168526062918, 2613.309399666653, 2461.881014249383, 2375.817117396999, 2215.169500877749, 1725.021904866832, 1566.822139986398, 1117.0815388368403, 1022.9584221318912, 976.618003469537, 918.9057568229878, 903.8983738808934, 876.9860746985069, 890.1950646104193, 829.1040035047574, 929.6269803198037, 834.6861518105117, 830.9921570366228, 819.0354852730195, 826.6233033419211, 712.79247274325, 685.8567467065234, 637.7892341358919, 595.22785991427, 587.803838845958, 577.5829824010794, 570.4503328336222, 570.2433107403779, 594.2700326033986, 1916.874091367053, 585.3479023959975, 1383.6914912532911, 2069.57300167269, 4077.65738597517, 1377.3615297466324, 881.4817389743101, 1334.4622486151272, 4066.8626989188206, 3887.0763609626188, 1619.945587879156, 5050.726411991978, 2580.1604007754563, 1402.355054970693, 2050.8387754326864, 1948.7580401238863, 1139.0047456238858, 1961.6645817070769, 1067.508277935487, 1521.8775926151163, 1514.9241457513745, 1530.9441672043044, 1243.55153931156, 1350.547075877074, 1869.580619888598, 2633.1308101958407, 1252.4919399189491, 4373.903443404092, 3809.1268586778037, 3389.6766845583575, 2975.006816332617, 2560.307835132814, 1939.1547539628516, 1817.918440446611, 1742.3522716036023, 1374.3569456562354, 1181.0056841420023, 1172.87483051206, 1151.7367000967765, 1172.3022383160987, 1130.2705486912973, 1076.077969775166, 1053.868215230666, 1091.736193973481, 957.7298410750386, 784.4693096191836, 690.5801349462955, 690.3996233952885, 671.4645228416647, 692.6592679908591, 647.7500053401084, 597.3238896637037, 582.9149676309612, 572.0219372482125, 579.6252015619457, 554.5534305425217, 521.420921490992, 36493.05164956383, 1973.566511540678, 2296.2911628215043, 1774.1463061167165, 1642.9157975123385, 4010.0326036064826, 1654.1375155946125, 1550.4251012175357, 1768.1263653427186, 901.2651167634052, 2374.6166193435574, 1788.6871254785112, 1210.8152583353656, 1022.841340919554, 6810.688912196439, 4183.200906539308, 4267.953692307866, 4048.5158739412536, 3994.327406031535, 3654.490899800559, 3654.490899800559, 3150.009204090728, 2932.465960143198, 2986.765837925373, 2478.820528576387, 2017.6109530375518, 1709.2423775873872, 1391.871338514169, 1232.2179583478332, 1055.327489393924, 1014.552284858067, 981.2541790127601, 947.4075160277552, 874.5625449844702, 868.2405907609656, 858.693310620066, 863.1734635219674, 778.8257769901899, 778.6422337747232, 791.6502968139167, 877.066638569649, 690.5095939671285, 663.8624148725244, 654.3471827620863, 656.0601348255719, 5707.573462175192, 1171.5311204002396, 3863.981899173325, 3483.985267956423, 1183.8966052639962, 3246.3247574931856, 2230.784948466197, 2475.5401043100915, 1759.6059080066277, 928.9938500209037, 1102.0233906362453, 1112.9052639951974, 970.7480865030997, 2811.115331419745, 2717.8063110154826, 2585.7520974217864, 2483.46777330555, 1819.048771365398, 1454.8462376042396, 1378.0853294115302, 1285.5931534093004, 1247.0448016531857, 1221.4768111297221, 1076.9590639314365, 892.0057358485329, 883.6226799877122, 864.2999475121242, 818.5466168551052, 793.1443249778049, 779.7301043057736, 775.5929871036856, 737.7817803649174, 731.2040552343169, 709.0314605700013, 622.5277929200141, 605.2320755183296, 593.1637106003751, 570.8744493498262, 548.6348144872064, 523.0817415965215, 503.21775461210694, 487.3054544940455, 477.242025364826, 491.59570030511475, 1824.5927818070754, 1063.6552694016475, 1410.5717733075073, 1367.5405243193986, 1348.9987982674945, 1227.7475658487613, 1035.60572175053, 873.3335548008153, 999.4159012262448, 1190.2742345775102, 1053.7110921854576], \"Total\": [42586.0, 20128.0, 13755.0, 6811.0, 5570.0, 5548.0, 8251.0, 4268.0, 4184.0, 4958.0, 4374.0, 4049.0, 7257.0, 3995.0, 4746.0, 2811.0, 3655.0, 3655.0, 3810.0, 2718.0, 4102.0, 2586.0, 5268.0, 2484.0, 3390.0, 3150.0, 3763.0, 6341.0, 3591.0, 2987.0, 13755.633523389393, 5570.2877008123605, 5548.777010160809, 4958.137635048088, 4746.106744105065, 3763.7918106998545, 3591.480871461896, 2772.054763082278, 1801.1156587935423, 1550.0840428246045, 1470.443069325591, 1510.284441647526, 1440.5709724156075, 1203.7121953140236, 1182.4668532805042, 1164.6315876291105, 1119.1920528311186, 1118.8291092112718, 1072.3230703852016, 1065.4714516609165, 1050.6979024795771, 1028.746873268981, 1020.7356754991326, 937.0371915256178, 882.8024644674881, 880.5916292380647, 862.3624908497662, 859.3206443761028, 818.4474046290817, 776.0712930845152, 1824.0788038352032, 914.7747353954294, 949.6214044482515, 2794.402265939992, 2197.6523856397425, 1588.3037370373158, 1251.7251252857986, 2207.9425812859818, 5759.417786462014, 1941.5113552003859, 6325.722000486671, 2553.6147183049206, 2777.7312472749095, 9941.548465415002, 6341.834908468652, 42586.160740371204, 2906.6983145364507, 2812.2790764868005, 6072.584454214025, 2772.4181135089634, 20128.156918588164, 4102.080359168834, 2614.207173752969, 2462.7741487934777, 2376.719158437701, 2216.0985781033874, 1725.9128298062733, 1567.721284424017, 1118.019720780588, 1023.8613073612074, 977.5159113908804, 919.8002633694875, 904.7833696938493, 877.8831676471045, 891.1546323992615, 829.9984949835022, 930.629941170395, 835.589461053821, 831.9006656761313, 819.9310614111806, 827.5322472202112, 713.6878806890103, 686.7518176429529, 638.6983799841545, 596.1260342900139, 588.7037986245373, 578.4896677700224, 571.3506320384431, 571.1556158616555, 595.2305994398869, 1924.632921312092, 586.3236383401706, 1506.3126795895857, 2367.454992485171, 5268.574746059578, 1564.433763775304, 939.3931638517447, 1596.4470824580512, 6599.953071522632, 6325.722000486671, 2121.92246712154, 9941.548465415002, 4066.8733151898987, 1993.5512500884124, 3819.6866135220466, 3543.884244924216, 1420.2792531542664, 4259.020769487943, 1283.2785709818095, 2772.4181135089634, 2812.2790764868005, 3091.689810622141, 1890.5102179089215, 2529.337203437391, 8251.221254410339, 42586.160740371204, 2596.5735767127053, 4374.855491978016, 3810.04965548808, 3390.590432574206, 2975.9231743343385, 2561.2813044536133, 1940.0924082599156, 1818.8376289289413, 1743.2704457102348, 1375.2737509032597, 1181.930362518862, 1173.7981176965914, 1152.6497565397888, 1173.2365502373898, 1131.193070756749, 1076.995938143941, 1054.7892491331404, 1092.726249900646, 958.6497459418752, 785.3949702391426, 691.4936900298329, 691.3154990481237, 672.3852556377014, 693.6105470790723, 648.6776300417766, 598.2441297333106, 583.830398589666, 572.930142602217, 580.55863836747, 555.4635345444933, 522.3446812773608, 42586.160740371204, 2473.175119562326, 3116.297418562845, 2276.9819298427446, 2210.8421892935526, 7257.032295011934, 2497.3886733780346, 2906.6983145364507, 3819.6866135220466, 1178.8838032595863, 9941.548465415002, 6599.953071522632, 4333.339445868042, 4066.8733151898987, 6811.530787531225, 4184.036600712185, 4268.831181461834, 4049.3625432687872, 3995.164040570789, 3655.3255524646934, 3655.3255524646934, 3150.8859672513745, 2933.305198626179, 2987.653216975073, 2479.6659533458446, 2018.4666955253354, 1710.1037058856873, 1392.7271143940827, 1233.0622111979328, 1056.187040016062, 1015.4003500131653, 982.1058850954558, 948.2544832382238, 875.4027146221866, 869.0748826139102, 859.5330594142616, 864.0301411944065, 779.6631330153731, 779.479587741337, 792.5366948277016, 878.0959201922275, 691.3617574739535, 664.705730311549, 655.194260805672, 656.9126796583953, 8251.221254410339, 1327.4857815492242, 6341.834908468652, 6072.584454214025, 1415.5705097412283, 7257.032295011934, 4333.339445868042, 5759.417786462014, 4481.991392726311, 1081.7781478733182, 1998.7266756259771, 4259.020769487943, 2105.2716644266343, 2811.9537776085226, 2718.643137852385, 2586.5830431399795, 2484.305933666519, 1819.8871318937302, 1455.6809294292732, 1378.9198528409377, 1286.4342114419558, 1247.8751391562625, 1222.3095101679512, 1077.7931696047272, 892.8390062166595, 884.4595340484087, 865.1407915558631, 819.3844231120084, 793.9795389329552, 780.5759632336807, 776.438861951693, 738.6240696048997, 732.0503567641879, 709.8695693381969, 623.365155662294, 606.0676540491199, 594.0003124842352, 571.7039540584875, 549.4694416114841, 523.9182920647265, 504.05438326146117, 488.15489298878293, 478.07911201673755, 492.46148306924897, 2102.2751038763927, 1256.684578807724, 1844.1739991776342, 1991.2485247942166, 2146.2527855441067, 2168.848610638709, 1807.4292054056327, 1614.5423934119342, 2553.6147183049206, 5268.574746059578, 6072.584454214025], \"Category\": [\"Default\", \"Default\", \"Default\", \"Default\", \"Default\", \"Default\", \"Default\", \"Default\", \"Default\", \"Default\", \"Default\", \"Default\", \"Default\", \"Default\", \"Default\", \"Default\", \"Default\", \"Default\", \"Default\", \"Default\", \"Default\", \"Default\", \"Default\", \"Default\", \"Default\", \"Default\", \"Default\", \"Default\", \"Default\", \"Default\", \"Topic1\", \"Topic1\", \"Topic1\", \"Topic1\", \"Topic1\", \"Topic1\", \"Topic1\", \"Topic1\", \"Topic1\", \"Topic1\", \"Topic1\", \"Topic1\", \"Topic1\", \"Topic1\", \"Topic1\", \"Topic1\", \"Topic1\", \"Topic1\", \"Topic1\", \"Topic1\", \"Topic1\", \"Topic1\", \"Topic1\", \"Topic1\", \"Topic1\", \"Topic1\", \"Topic1\", \"Topic1\", \"Topic1\", \"Topic1\", \"Topic1\", \"Topic1\", \"Topic1\", \"Topic1\", \"Topic1\", \"Topic1\", \"Topic1\", \"Topic1\", \"Topic1\", \"Topic1\", \"Topic1\", \"Topic1\", \"Topic1\", \"Topic1\", \"Topic1\", \"Topic1\", \"Topic1\", \"Topic1\", \"Topic1\", \"Topic1\", \"Topic2\", \"Topic2\", \"Topic2\", \"Topic2\", \"Topic2\", \"Topic2\", \"Topic2\", \"Topic2\", \"Topic2\", \"Topic2\", \"Topic2\", \"Topic2\", \"Topic2\", \"Topic2\", \"Topic2\", \"Topic2\", \"Topic2\", \"Topic2\", \"Topic2\", \"Topic2\", \"Topic2\", \"Topic2\", \"Topic2\", \"Topic2\", \"Topic2\", \"Topic2\", \"Topic2\", \"Topic2\", \"Topic2\", \"Topic2\", \"Topic2\", \"Topic2\", \"Topic2\", \"Topic2\", \"Topic2\", \"Topic2\", \"Topic2\", \"Topic2\", \"Topic2\", \"Topic2\", \"Topic2\", \"Topic2\", \"Topic2\", \"Topic2\", \"Topic2\", \"Topic2\", \"Topic2\", \"Topic2\", \"Topic2\", \"Topic2\", \"Topic2\", \"Topic2\", \"Topic2\", \"Topic2\", \"Topic2\", \"Topic2\", \"Topic2\", \"Topic3\", \"Topic3\", \"Topic3\", \"Topic3\", \"Topic3\", \"Topic3\", \"Topic3\", \"Topic3\", \"Topic3\", \"Topic3\", \"Topic3\", \"Topic3\", \"Topic3\", \"Topic3\", \"Topic3\", \"Topic3\", \"Topic3\", \"Topic3\", \"Topic3\", \"Topic3\", \"Topic3\", \"Topic3\", \"Topic3\", \"Topic3\", \"Topic3\", \"Topic3\", \"Topic3\", \"Topic3\", \"Topic3\", \"Topic3\", \"Topic3\", \"Topic3\", \"Topic3\", \"Topic3\", \"Topic3\", \"Topic3\", \"Topic3\", \"Topic3\", \"Topic3\", \"Topic3\", \"Topic3\", \"Topic3\", \"Topic3\", \"Topic3\", \"Topic4\", \"Topic4\", \"Topic4\", \"Topic4\", \"Topic4\", \"Topic4\", \"Topic4\", \"Topic4\", \"Topic4\", \"Topic4\", \"Topic4\", \"Topic4\", \"Topic4\", \"Topic4\", \"Topic4\", \"Topic4\", \"Topic4\", \"Topic4\", \"Topic4\", \"Topic4\", \"Topic4\", \"Topic4\", \"Topic4\", \"Topic4\", \"Topic4\", \"Topic4\", \"Topic4\", \"Topic4\", \"Topic4\", \"Topic4\", \"Topic4\", \"Topic4\", \"Topic4\", \"Topic4\", \"Topic4\", \"Topic4\", \"Topic4\", \"Topic4\", \"Topic4\", \"Topic4\", \"Topic4\", \"Topic4\", \"Topic4\", \"Topic4\", \"Topic5\", \"Topic5\", \"Topic5\", \"Topic5\", \"Topic5\", \"Topic5\", \"Topic5\", \"Topic5\", \"Topic5\", \"Topic5\", \"Topic5\", \"Topic5\", \"Topic5\", \"Topic5\", \"Topic5\", \"Topic5\", \"Topic5\", \"Topic5\", \"Topic5\", \"Topic5\", \"Topic5\", \"Topic5\", \"Topic5\", \"Topic5\", \"Topic5\", \"Topic5\", \"Topic5\", \"Topic5\", \"Topic5\", \"Topic5\", \"Topic5\", \"Topic5\", \"Topic5\", \"Topic5\", \"Topic5\", \"Topic5\", \"Topic5\", \"Topic5\", \"Topic5\", \"Topic5\", \"Topic5\", \"Topic5\"], \"logprob\": [30.0, 29.0, 28.0, 27.0, 26.0, 25.0, 24.0, 23.0, 22.0, 21.0, 20.0, 19.0, 18.0, 17.0, 16.0, 15.0, 14.0, 13.0, 12.0, 11.0, 10.0, 9.0, 8.0, 7.0, 6.0, 5.0, 4.0, 3.0, 2.0, 1.0, -3.0324, -3.9364, -3.9403, -4.0529, -4.0966, -4.3286, -4.3754, -4.6345, -5.0659, -5.216, -5.2688, -5.242, -5.2893, -5.4691, -5.4869, -5.5021, -5.5419, -5.5423, -5.5847, -5.5912, -5.6051, -5.6263, -5.6341, -5.7197, -5.7794, -5.7819, -5.8028, -5.8064, -5.8552, -5.9084, -5.0603, -5.744, -5.7072, -4.7361, -4.9564, -5.3019, -5.5074, -5.1742, -4.696, -5.317, -4.7738, -5.2132, -5.1974, -4.7312, -4.9077, -4.4216, -5.3495, -5.3939, -5.3406, -5.4307, -2.6089, -4.1997, -4.6504, -4.7101, -4.7457, -4.8157, -5.0658, -5.1619, -5.5003, -5.5883, -5.6347, -5.6956, -5.712, -5.7423, -5.7273, -5.7984, -5.684, -5.7917, -5.7961, -5.8106, -5.8014, -5.9496, -5.9881, -6.0607, -6.1298, -6.1424, -6.1599, -6.1723, -6.1727, -6.1314, -4.9603, -6.1465, -5.2862, -4.8837, -4.2055, -5.2908, -5.7372, -5.3225, -4.2081, -4.2533, -5.1286, -3.9915, -4.6631, -5.2728, -4.8928, -4.9438, -5.4808, -4.9372, -5.5457, -5.1911, -5.1956, -5.1851, -5.393, -5.3105, -4.9853, -4.6428, -5.3859, -3.9992, -4.1375, -4.2542, -4.3846, -4.5348, -4.8126, -4.8772, -4.9197, -5.1569, -5.3085, -5.3154, -5.3336, -5.3159, -5.3524, -5.4016, -5.4224, -5.3871, -5.5181, -5.7176, -5.8451, -5.8454, -5.8732, -5.8421, -5.9091, -5.9902, -6.0146, -6.0335, -6.0203, -6.0645, -6.1261, -1.8778, -4.795, -4.6436, -4.9016, -4.9784, -4.0861, -4.9716, -5.0364, -4.905, -5.5788, -4.6101, -4.8934, -5.2836, -5.4523, -3.4619, -3.9493, -3.9293, -3.982, -3.9955, -4.0844, -4.0844, -4.233, -4.3045, -4.2862, -4.4726, -4.6785, -4.8443, -5.0497, -5.1716, -5.3265, -5.3659, -5.3993, -5.4344, -5.5144, -5.5217, -5.5327, -5.5275, -5.6304, -5.6306, -5.614, -5.5116, -5.7507, -5.7901, -5.8045, -5.8019, -3.6386, -5.2221, -4.0287, -4.1322, -5.2116, -4.2029, -4.578, -4.4739, -4.8153, -5.454, -5.2832, -5.2734, -5.4101, -3.8156, -3.8493, -3.8991, -3.9395, -4.2508, -4.4742, -4.5284, -4.5979, -4.6284, -4.6491, -4.775, -4.9634, -4.9729, -4.995, -5.0494, -5.0809, -5.098, -5.1033, -5.1533, -5.1622, -5.193, -5.3231, -5.3513, -5.3714, -5.4097, -5.4495, -5.4972, -5.5359, -5.568, -5.5889, -5.5592, -4.2478, -4.7874, -4.5051, -4.5361, -4.5498, -4.644, -4.8142, -4.9846, -4.8497, -4.675, -4.7968], \"loglift\": [30.0, 29.0, 28.0, 27.0, 26.0, 25.0, 24.0, 23.0, 22.0, 21.0, 20.0, 19.0, 18.0, 17.0, 16.0, 15.0, 14.0, 13.0, 12.0, 11.0, 10.0, 9.0, 8.0, 7.0, 6.0, 5.0, 4.0, 3.0, 2.0, 1.0, 1.3869, 1.3868, 1.3868, 1.3867, 1.3867, 1.3867, 1.3867, 1.3866, 1.3864, 1.3863, 1.3863, 1.3863, 1.3863, 1.3862, 1.3862, 1.3862, 1.3861, 1.3861, 1.3861, 1.3861, 1.3861, 1.3861, 1.386, 1.386, 1.3859, 1.3859, 1.3859, 1.3859, 1.3858, 1.3858, 1.3793, 1.3858, 1.3852, 1.277, 1.2968, 1.2761, 1.3087, 1.0744, 0.5938, 1.0602, 0.4222, 0.89, 0.8216, 0.0127, 0.2858, -1.1325, 0.6241, 0.6127, -0.1037, 0.5902, 1.4296, 1.4294, 1.4293, 1.4293, 1.4293, 1.4292, 1.4291, 1.4291, 1.4288, 1.4288, 1.4287, 1.4287, 1.4287, 1.4286, 1.4286, 1.4286, 1.4286, 1.4286, 1.4286, 1.4286, 1.4286, 1.4284, 1.4284, 1.4282, 1.4281, 1.4281, 1.4281, 1.4281, 1.4281, 1.428, 1.4256, 1.428, 1.3447, 1.2952, 1.1734, 1.3023, 1.366, 1.2504, 0.9455, 0.9427, 1.1597, 0.7525, 0.9746, 1.0779, 0.8077, 0.8316, 1.209, 0.6544, 1.2456, 0.8299, 0.811, 0.7268, 1.0108, 0.8022, -0.055, -1.3537, 0.7006, 1.5655, 1.5655, 1.5655, 1.5655, 1.5654, 1.5653, 1.5653, 1.5652, 1.5651, 1.565, 1.565, 1.565, 1.565, 1.5649, 1.5649, 1.5649, 1.5649, 1.5648, 1.5646, 1.5644, 1.5644, 1.5644, 1.5644, 1.5643, 1.5642, 1.5642, 1.5642, 1.5642, 1.5641, 1.564, 1.4114, 1.3401, 1.2604, 1.3162, 1.2689, 0.9726, 1.1538, 0.9373, 0.7955, 1.2972, 0.1339, 0.2602, 0.2907, 0.1855, 1.6601, 1.6601, 1.6601, 1.6601, 1.6601, 1.66, 1.66, 1.66, 1.66, 1.66, 1.6599, 1.6598, 1.6598, 1.6597, 1.6596, 1.6595, 1.6594, 1.6594, 1.6594, 1.6593, 1.6593, 1.6593, 1.6593, 1.6592, 1.6592, 1.6591, 1.6591, 1.659, 1.659, 1.659, 1.659, 1.2917, 1.5353, 1.1648, 1.1047, 1.4815, 0.8558, 0.9963, 0.8159, 0.7253, 1.508, 1.0649, 0.3182, 0.8861, 2.1912, 2.1912, 2.1912, 2.1912, 2.1911, 2.1909, 2.1909, 2.1909, 2.1908, 2.1908, 2.1907, 2.1906, 2.1906, 2.1905, 2.1905, 2.1905, 2.1904, 2.1904, 2.1904, 2.1904, 2.1903, 2.1902, 2.1901, 2.1901, 2.1901, 2.19, 2.1899, 2.1899, 2.1898, 2.1898, 2.1898, 2.0498, 2.0247, 1.9235, 1.8158, 1.7272, 1.6225, 1.6346, 1.577, 1.2534, 0.7039, 0.44]}, \"token.table\": {\"Topic\": [3, 4, 2, 1, 1, 2, 5, 3, 2, 4, 4, 4, 5, 2, 3, 4, 5, 2, 3, 5, 2, 3, 1, 5, 3, 4, 5, 1, 3, 1, 1, 3, 2, 2, 5, 1, 2, 5, 2, 5, 1, 3, 1, 3, 4, 5, 1, 2, 3, 3, 1, 2, 3, 4, 1, 4, 1, 2, 1, 5, 5, 5, 4, 4, 3, 1, 3, 5, 1, 3, 4, 2, 5, 4, 5, 3, 1, 2, 2, 3, 3, 1, 3, 4, 1, 2, 1, 1, 5, 2, 3, 1, 1, 1, 2, 3, 1, 2, 5, 1, 5, 1, 2, 3, 1, 2, 3, 1, 5, 5, 5, 2, 3, 3, 3, 4, 3, 5, 3, 3, 1, 4, 2, 1, 5, 1, 2, 4, 1, 2, 3, 2, 2, 5, 3, 4, 3, 2, 5, 1, 2, 3, 1, 2, 5, 3, 1, 2, 3, 2, 4, 5, 4, 1, 4, 4, 3, 3, 2, 3, 1, 4, 3, 4, 1, 2, 3, 4, 5, 1, 2, 3, 4, 1, 2, 3, 3, 5, 2, 2, 2, 2, 5, 2, 4, 1, 2, 3, 1, 2, 4, 2, 5, 1, 3, 4, 1, 3, 1, 2, 3, 5, 4, 5, 2, 1, 5, 3, 4, 4, 4, 5, 4, 1, 4, 3, 5, 1, 4, 2, 1, 2, 3, 4, 1, 1, 2, 3, 4, 5, 1, 1, 5, 1, 5, 1, 4, 2, 4, 2, 3, 3, 5, 5, 1, 5, 4, 4, 4, 2, 2, 1, 2, 3, 1, 4, 2, 3, 1, 2, 5, 5, 1, 4, 1, 2, 3, 4, 2, 2, 1, 2, 3, 4, 5, 3, 4, 3, 2, 3, 1, 3, 4, 2, 1, 4, 1, 4, 4, 3, 2, 1, 5, 5, 2, 1, 1, 2, 3, 4, 3, 5, 4, 1, 5, 2, 4, 2, 3, 4, 1, 2, 3], \"Freq\": [0.5525674734500277, 0.44729027900717944, 0.9991299596212813, 0.9991530861473842, 0.9988931159456658, 0.8356055234515126, 0.16348803719703509, 0.9982238615066279, 0.9991535410270853, 0.9993545971031531, 0.9991494621365404, 0.9996373640471504, 0.9992986965371757, 0.8322433056626946, 0.16753961677666604, 0.8364118861281165, 0.1631850892699281, 0.9995382256750386, 0.9992860527334506, 0.9987662919698516, 0.2628118853872752, 0.7367717812566348, 0.4334096881585374, 0.5661990394241319, 0.11676207922853182, 0.8828719797150922, 0.999414218682297, 0.23496802588524962, 0.7642822791429961, 0.9996036485348236, 0.998934898770856, 0.9997245034624238, 0.9987969918143984, 0.9990879223669901, 0.9991550917028287, 0.4611917824386969, 0.53870898257103, 0.9976341669306806, 0.13176201320618727, 0.868107126719465, 0.7210877218153093, 0.27813383555733356, 0.22527475909382974, 0.027500646760723366, 0.5737260677506599, 0.17356695620240975, 0.9984631529746831, 0.9977424782942101, 0.9991197551974327, 0.9990738201013266, 0.22587351695766916, 0.46066927263092194, 0.052124657759462116, 0.2613276760643303, 0.999453349565835, 0.998938281589331, 0.9992792693379969, 0.9976360715072208, 0.42657272422848125, 0.5731898084315261, 0.9995308391260985, 0.9985651850935082, 0.9997522486509778, 0.9997086376031201, 0.9998258614285779, 0.9982925780309327, 0.0010530512426486633, 0.0010530512426486633, 0.35957354710617223, 0.17954927451272537, 0.46122313638057233, 0.9988644637884821, 0.9996624689874587, 0.9986106530035774, 0.9987750294198304, 0.9989460350198436, 0.08099248028187644, 0.9187999402468607, 0.9960340898113245, 0.0036370571876261195, 0.9996897855622415, 0.10538970222675743, 0.7431557114101394, 0.15107365040230464, 0.9992739970459324, 0.9999425223783358, 0.999698683114747, 0.3713448878753342, 0.6285373321754402, 0.9988044945077955, 0.9994369297795999, 0.9997668101109525, 0.9998599673118262, 0.2530792872712683, 0.5080697456308332, 0.23889638603706767, 0.42501252839639797, 0.5341320240591011, 0.0407221306277479, 0.4589535728659813, 0.5407104846315812, 0.38114226325698614, 0.6144753120198694, 0.004268287477369816, 0.11384667387368093, 0.6343939926438376, 0.25154459475761465, 0.9993357724633026, 0.9990629052522589, 0.9993329178348963, 0.9989286591022504, 0.998906557451779, 0.9994997408322993, 0.9974256820724728, 0.14050940139511858, 0.8587712756320076, 0.999436293170495, 0.9992621304513469, 0.997920364494232, 0.9992712285616032, 0.9996051870044315, 0.9988739655140664, 0.9991587655915748, 0.9986195944959421, 0.9992640799486435, 0.3380028605747206, 0.4951984493204759, 0.16657557243634558, 0.06873755063090099, 0.13302737739744958, 0.7981642643846975, 0.9989052556926121, 0.880190668269018, 0.11889285715180636, 0.999075262859712, 0.9993228139072876, 0.9998044525174409, 0.7740233737881348, 0.22586753673562543, 0.18143250258620108, 0.6580234204584087, 0.1608031509801899, 0.9994576932003053, 0.9989939804296833, 0.999512534663176, 0.9989452987402488, 0.9998661077479997, 0.7634586207089766, 0.2361066475155539, 0.30433167555648355, 0.009039554719499512, 0.6870061586819629, 0.9994779204148696, 0.9993281457392723, 0.9996373640471504, 0.9994767464788981, 0.9993353780045898, 0.9992517470823779, 0.2204672744305308, 0.7791014837445451, 0.8952947517786967, 0.10451401462395475, 0.9990377572039219, 0.9986770605777261, 0.31349005755135745, 0.4821738968726038, 0.009242950099794322, 0.0874229030272213, 0.10706417198928424, 0.9993805734861638, 0.22663311797638092, 0.08168487781608595, 0.6917763836412739, 0.9993006554517979, 0.5369550456676914, 0.46286519782568425, 0.9983765165540213, 0.9997634342501852, 0.999472222001843, 0.9989173398780739, 0.9991341908791777, 0.1527829681670475, 0.8466722819257216, 0.9378394839362911, 0.060677469448772524, 0.25386516995067276, 0.08368741406891264, 0.6622917840668971, 0.33255359536144957, 0.05818505295797767, 0.6092873838201239, 0.9979325669059271, 0.9979081954319318, 0.4665086821080191, 0.5332510746809953, 0.9997188196397513, 0.9997688268754641, 0.9989553670260943, 0.08051911560906092, 0.06182759737493654, 0.8569215765300262, 0.000727936011630472, 0.9988077485433755, 0.9982472609209585, 0.999294556619853, 0.9987661643941631, 0.9983159731346745, 0.999320055395763, 0.9998052906225378, 0.9987631875740359, 0.9995399664457741, 0.997742817057651, 0.999138558307694, 0.9137022820901977, 0.08600086220868892, 0.9993222280143237, 0.9982383913050186, 0.9922816910072076, 0.0071268850735324305, 0.999736631398159, 0.4524762912886121, 0.09358584842845814, 0.02413438391754301, 0.4299045653225647, 0.9991495365958185, 0.24855023189198383, 0.23784070663990553, 0.1149042813504234, 0.39268259257620425, 0.00624722306371234, 0.9997896242035482, 0.999408334220758, 0.9995322261798537, 0.9992589491956853, 0.9987686737978806, 0.9995575182608774, 0.9993798267461348, 0.9990361603333572, 0.9997813611796169, 0.8743566431339311, 0.1254511705366075, 0.9985776715435306, 0.9996608131982405, 0.9986813804562243, 0.6085491240556207, 0.3912101511786133, 0.9987519356746498, 0.9997314342502682, 0.9981772416562327, 0.9979767057706118, 0.99935682600648, 0.5680895160567083, 0.29808499321606746, 0.13356223729850367, 0.9996195013546179, 0.9999104690516314, 0.9996856598507594, 0.9992128448947878, 0.45086994415063675, 0.5489792439978153, 0.999145645642991, 0.9990602939490573, 0.7314501806742494, 0.26812291452579295, 0.07697024425702509, 0.616216502742758, 0.27106253341696435, 0.03575783000916914, 0.9995042738106319, 0.9996974154749635, 0.05630761288102197, 0.14953825060205836, 0.27946114425785906, 0.5148454276129509, 0.9994347759067729, 0.9995394702002979, 0.9995550416551301, 0.9979397887950597, 0.9981110801655307, 0.9991654995950843, 0.351723929326069, 0.09656147704115407, 0.551351024348973, 0.9987043411353281, 0.8957192851251969, 0.10377890239165286, 0.925123237208809, 0.07509635949708812, 0.9996057220059457, 0.9980971075436107, 0.9993231024035152, 0.999091003367359, 0.9994804351915284, 0.9997745894370081, 0.9994711031805843, 0.9997705519427201, 0.9999539444411399, 0.801954965877605, 0.19784841563793415, 0.9993847334184508, 0.23479346319440905, 0.7651121860676933, 0.9997687871063863, 0.9984200485709627, 0.999474326551806, 0.9995399153974731, 0.9988761081408044, 0.7032675984316041, 0.29595426752827847, 0.9999220751476018, 0.21699354348308988, 0.5499615295819794, 0.23279541400981682], \"Term\": [\"amp\", \"amp\", \"announce\", \"appeal\", \"ask\", \"available\", \"available\", \"average\", \"away\", \"basketball\", \"basten\", \"best_defender\", \"bill\", \"bitcoin\", \"bitcoin\", \"block\", \"block\", \"box\", \"btc\", \"build\", \"buy\", \"buy\", \"call\", \"call\", \"case\", \"case\", \"chance\", \"change\", \"change\", \"child\", \"civil\", \"club\", \"coach\", \"collection\", \"college\", \"come\", \"come\", \"comment\", \"company\", \"company\", \"country\", \"country\", \"covid\", \"covid\", \"covid\", \"covid\", \"crack\", \"create\", \"crypto\", \"current\", \"day\", \"day\", \"day\", \"day\", \"deal\", \"die\", \"dm\", \"do\", \"drop\", \"drop\", \"energy\", \"enjoy\", \"enter\", \"entire\", \"eth\", \"eth_enter\", \"eth_enter\", \"eth_enter\", \"even\", \"even\", \"even\", \"event\", \"ever\", \"face\", \"fail\", \"fan\", \"fantasy\", \"fantasy\", \"farming_racin\", \"farming_racin\", \"floor\", \"follow\", \"follow\", \"follow\", \"food\", \"football\", \"force\", \"free\", \"free\", \"fuck\", \"game\", \"gas\", \"gemini\", \"get\", \"get\", \"get\", \"give\", \"give\", \"give\", \"giveaway\", \"giveaway\", \"go\", \"go\", \"go\", \"good\", \"good\", \"good\", \"gouge\", \"gougin\", \"gouging\", \"government\", \"gt\", \"high\", \"history\", \"home\", \"home\", \"hour\", \"house\", \"include\", \"increase\", \"inflation\", \"job\", \"jong\", \"kid\", \"kill\", \"know\", \"know\", \"know\", \"last\", \"last\", \"last\", \"league\", \"let\", \"let\", \"list\", \"little\", \"live\", \"logistic\", \"logistic\", \"look\", \"look\", \"look\", \"lose\", \"lot\", \"love\", \"low\", \"make\", \"manchester_unite\", \"manchester_unite\", \"market\", \"market\", \"market\", \"may_lead\", \"mean\", \"metaverse_find\", \"military\", \"million\", \"mint\", \"month\", \"month\", \"much\", \"much\", \"mufc\", \"nba_final\", \"need\", \"need\", \"need\", \"need\", \"need\", \"never\", \"new\", \"new\", \"new\", \"next\", \"nft\", \"nft\", \"nft_whale\", \"oil\", \"open\", \"opened_direct\", \"opening\", \"order\", \"order\", \"part\", \"part\", \"pay\", \"pay\", \"pay\", \"people\", \"people\", \"people\", \"petrol\", \"pick\", \"play\", \"play\", \"player\", \"pleasure\", \"point\", \"price\", \"price\", \"price\", \"price\", \"problem\", \"profit\", \"project\", \"pump\", \"raise\", \"real\", \"real_life\", \"really_treate\", \"recess\", \"reminder\", \"report\", \"right\", \"right\", \"rise\", \"round\", \"russian\", \"russian\", \"sale\", \"say\", \"say\", \"say\", \"say\", \"season\", \"see\", \"see\", \"see\", \"see\", \"see\", \"sell\", \"send\", \"set\", \"share\", \"ship\", \"sign\", \"sing\", \"sport\", \"spot\", \"start\", \"start\", \"stay\", \"still\", \"stock\", \"stop\", \"stop\", \"super\", \"supply\", \"system\", \"tag\", \"tag_around\", \"take\", \"take\", \"take\", \"talk\", \"target\", \"team\", \"thank\", \"think\", \"think\", \"thread\", \"ticket\", \"tigray\", \"tigray\", \"time\", \"time\", \"time\", \"time\", \"titan\", \"titan_box\", \"today\", \"today\", \"today\", \"today\", \"tonight\", \"top\", \"top_analyst\", \"trade\", \"trading\", \"transactions_nft\", \"try\", \"try\", \"try\", \"tweet\", \"ukraine\", \"ukraine\", \"ukrainian\", \"ukrainian\", \"understand\", \"update\", \"usd\", \"vaccine\", \"video\", \"vote\", \"wait\", \"want\", \"war\", \"watch\", \"watch\", \"watch_someone\", \"way\", \"way\", \"weapon\", \"weekend\", \"well\", \"win\", \"woman\", \"work\", \"work\", \"world\", \"year\", \"year\", \"year\"]}, \"R\": 30, \"lambda.step\": 0.01, \"plot.opts\": {\"xlab\": \"PC1\", \"ylab\": \"PC2\"}, \"topic.order\": [4, 3, 5, 1, 2]};\n",
       "\n",
       "function LDAvis_load_lib(url, callback){\n",
       "  var s = document.createElement('script');\n",
       "  s.src = url;\n",
       "  s.async = true;\n",
       "  s.onreadystatechange = s.onload = callback;\n",
       "  s.onerror = function(){console.warn(\"failed to load library \" + url);};\n",
       "  document.getElementsByTagName(\"head\")[0].appendChild(s);\n",
       "}\n",
       "\n",
       "if(typeof(LDAvis) !== \"undefined\"){\n",
       "   // already loaded: just create the visualization\n",
       "   !function(LDAvis){\n",
       "       new LDAvis(\"#\" + \"ldavis_el1511400913783106085653663271\", ldavis_el1511400913783106085653663271_data);\n",
       "   }(LDAvis);\n",
       "}else if(typeof define === \"function\" && define.amd){\n",
       "   // require.js is available: use it to load d3/LDAvis\n",
       "   require.config({paths: {d3: \"https://d3js.org/d3.v5\"}});\n",
       "   require([\"d3\"], function(d3){\n",
       "      window.d3 = d3;\n",
       "      LDAvis_load_lib(\"https://cdn.jsdelivr.net/gh/bmabey/pyLDAvis@3.3.1/pyLDAvis/js/ldavis.v3.0.0.js\", function(){\n",
       "        new LDAvis(\"#\" + \"ldavis_el1511400913783106085653663271\", ldavis_el1511400913783106085653663271_data);\n",
       "      });\n",
       "    });\n",
       "}else{\n",
       "    // require.js not available: dynamically load d3 & LDAvis\n",
       "    LDAvis_load_lib(\"https://d3js.org/d3.v5.js\", function(){\n",
       "         LDAvis_load_lib(\"https://cdn.jsdelivr.net/gh/bmabey/pyLDAvis@3.3.1/pyLDAvis/js/ldavis.v3.0.0.js\", function(){\n",
       "                 new LDAvis(\"#\" + \"ldavis_el1511400913783106085653663271\", ldavis_el1511400913783106085653663271_data);\n",
       "            })\n",
       "         });\n",
       "}\n",
       "</script>"
      ],
      "text/plain": [
       "PreparedData(topic_coordinates=              x         y  topics  cluster       Freq\n",
       "topic                                                \n",
       "3      0.077012  0.022762       1        1  24.984445\n",
       "2      0.144251 -0.167155       2        1  23.939142\n",
       "4      0.201088 -0.046727       3        1  20.892851\n",
       "0     -0.067653  0.346793       4        1  19.008792\n",
       "1     -0.354698 -0.155674       5        1  11.174771, topic_info=          Term          Freq         Total Category  logprob  loglift\n",
       "1918     price  42586.000000  42586.000000  Default  30.0000  30.0000\n",
       "9109  football  20128.000000  20128.000000  Default  29.0000  29.0000\n",
       "481        war  13755.000000  13755.000000  Default  28.0000  28.0000\n",
       "508      world   6811.000000   6811.000000  Default  27.0000  27.0000\n",
       "8677  pleasure   5570.000000   5570.000000  Default  26.0000  26.0000\n",
       "...        ...           ...           ...      ...      ...      ...\n",
       "451       drop   1035.605722   1807.429205   Topic5  -4.8142   1.6346\n",
       "9407  giveaway    873.333555   1614.542393   Topic5  -4.9846   1.5770\n",
       "397       stop    999.415901   2553.614718   Topic5  -4.8497   1.2534\n",
       "3306  logistic   1190.274235   5268.574746   Topic5  -4.6750   0.7039\n",
       "16       covid   1053.711092   6072.584454   Topic5  -4.7968   0.4400\n",
       "\n",
       "[267 rows x 6 columns], token_table=      Topic      Freq      Term\n",
       "term                           \n",
       "125       3  0.552567       amp\n",
       "125       4  0.447290       amp\n",
       "1119      2  0.999130  announce\n",
       "3217      1  0.999153    appeal\n",
       "1648      1  0.998893       ask\n",
       "...     ...       ...       ...\n",
       "543       3  0.295954      work\n",
       "508       4  0.999922     world\n",
       "102       1  0.216994      year\n",
       "102       2  0.549962      year\n",
       "102       3  0.232795      year\n",
       "\n",
       "[313 rows x 3 columns], R=30, lambda_step=0.01, plot_opts={'xlab': 'PC1', 'ylab': 'PC2'}, topic_order=[4, 3, 5, 1, 2])"
      ]
     },
     "execution_count": 11,
     "metadata": {},
     "output_type": "execute_result"
    }
   ],
   "source": [
    "# Visualize Topics\n",
    "import pyLDAvis.gensim_models\n",
    "import pickle \n",
    "import pyLDAvis\n",
    "\n",
    "pyLDAvis.enable_notebook()\n",
    "LDAvis_prepared = pyLDAvis.gensim_models.prepare(lda_model, corpus, id2word)\n",
    "LDAvis_prepared"
   ]
  },
  {
   "cell_type": "markdown",
   "metadata": {},
   "source": [
    "### LDA Hyperparameter tuning\n",
    "\n",
    "Finding the ideal number of topics, beta and alpha based on the coherence score."
   ]
  },
  {
   "cell_type": "code",
   "execution_count": null,
   "metadata": {},
   "outputs": [],
   "source": [
    "# supporting function\n",
    "def compute_coherence_values(corpus, dictionary, k, a, b):\n",
    "    \n",
    "    lda_model = gensim.models.LdaMulticore(corpus=corpus,\n",
    "                                           id2word=dictionary,\n",
    "                                           num_topics=k, \n",
    "                                           random_state=100,\n",
    "                                           chunksize=100,\n",
    "                                           passes=10,\n",
    "                                           alpha=a,\n",
    "                                           eta=b)\n",
    "    \n",
    "    coherence_model_lda = CoherenceModel(model=lda_model, \n",
    "                                         texts=data_lemmatized,\n",
    "                                         dictionary=id2word, coherence='c_v')\n",
    "    \n",
    "    return coherence_model_lda.get_coherence()"
   ]
  },
  {
   "cell_type": "code",
   "execution_count": null,
   "metadata": {},
   "outputs": [],
   "source": [
    "import numpy as np\n",
    "import tqdm\n",
    "\n",
    "grid = {}\n",
    "grid['Validation_Set'] = {}\n",
    "\n",
    "# Topics range\n",
    "min_topics = 2\n",
    "max_topics = 11\n",
    "topics_range = range(min_topics, max_topics)\n",
    "\n",
    "# Alpha parameter\n",
    "alpha = list(np.arange(0.01, 1, 0.3))\n",
    "alpha.append('symmetric')\n",
    "alpha.append('asymmetric')\n",
    "\n",
    "# Beta parameter\n",
    "beta = list(np.arange(0.01, 1, 0.3))\n",
    "beta.append('symmetric')\n",
    "\n",
    "# Validation sets\n",
    "num_of_docs = len(corpus)\n",
    "corpus_sets = [gensim.utils.ClippedCorpus(corpus, num_of_docs*0.75), corpus]\n",
    "corpus_title = ['75% Corpus', '100% Corpus']\n",
    "model_results = {'Validation_Set': [],\n",
    "                 'Topics': [],\n",
    "                 'Alpha': [],\n",
    "                 'Beta': [],\n",
    "                 'Coherence': []\n",
    "                }\n",
    "\n",
    "# Can take a long time to run\n",
    "if 1 == 1:\n",
    "    pbar = tqdm.tqdm(total=540)\n",
    "    \n",
    "    # iterate through validation corpuses\n",
    "    for i in range(len(corpus_sets)):\n",
    "        # iterate through number of topics\n",
    "        for k in topics_range:\n",
    "            # iterate through alpha values\n",
    "            for a in alpha:\n",
    "                # iterare through beta values\n",
    "                for b in beta:\n",
    "                    # get the coherence score for the given parameters\n",
    "                    cv = compute_coherence_values(corpus=corpus_sets[i], dictionary=id2word, \n",
    "                                                  k=k, a=a, b=b)\n",
    "                    # Save the model results\n",
    "                    model_results['Validation_Set'].append(corpus_title[i])\n",
    "                    model_results['Topics'].append(k)\n",
    "                    model_results['Alpha'].append(a)\n",
    "                    model_results['Beta'].append(b)\n",
    "                    model_results['Coherence'].append(cv)\n",
    "                    \n",
    "                    pbar.update(1)\n",
    "    pd.DataFrame(model_results).to_csv('lda_tuning_results.csv', index=False)\n",
    "    pbar.close()"
   ]
  }
 ],
 "metadata": {
  "interpreter": {
   "hash": "b2d883c8bd3e6e49837812bcb97c0e5ebdc696ca38fddee559b3f0208fef7d8e"
  },
  "kernelspec": {
   "display_name": "Python 3.8.10 ('venv': venv)",
   "language": "python",
   "name": "python3"
  },
  "language_info": {
   "codemirror_mode": {
    "name": "ipython",
    "version": 3
   },
   "file_extension": ".py",
   "mimetype": "text/x-python",
   "name": "python",
   "nbconvert_exporter": "python",
   "pygments_lexer": "ipython3",
   "version": "3.8.10"
  },
  "orig_nbformat": 4
 },
 "nbformat": 4,
 "nbformat_minor": 2
}
