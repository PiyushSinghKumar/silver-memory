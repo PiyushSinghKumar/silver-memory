{
 "cells": [
  {
   "cell_type": "code",
   "execution_count": 1,
   "metadata": {},
   "outputs": [],
   "source": [
    "import requests\n",
    "import pprint\n",
    "import pymongo\n",
    "import json\n",
    "from  datetime import datetime, timedelta\n",
    "import time"
   ]
  },
  {
   "cell_type": "code",
   "execution_count": 2,
   "metadata": {},
   "outputs": [],
   "source": [
    "myclient = pymongo.MongoClient(\"mongodb://localhost:27017/\")"
   ]
  },
  {
   "cell_type": "code",
   "execution_count": 3,
   "metadata": {},
   "outputs": [],
   "source": [
    "db = myclient.articles\n",
    "collection = db.nyt_articles"
   ]
  },
  {
   "cell_type": "code",
   "execution_count": 4,
   "metadata": {},
   "outputs": [],
   "source": [
    "apikey = \"y350k7VkLinnZ0YKzb2qFHGiE87LLHcu\"\n",
    "query = \"Covid\"\n",
    "begin_date = \"20220201\"  # YYYYMMDD\n",
    "#page = \"0\"  # <0-200>\n",
    "sort = \"relevance\"  # newest, oldest\n",
    "response_field = 'abstract,snippet,headline,pub_date'\n",
    "status_code = 200\n",
    "out_status_code = 200"
   ]
  },
  {
   "cell_type": "code",
   "execution_count": 5,
   "metadata": {},
   "outputs": [
    {
     "name": "stdout",
     "output_type": "stream",
     "text": [
      "page:  0\n",
      "status_code:  200\n"
     ]
    },
    {
     "ename": "KeyboardInterrupt",
     "evalue": "",
     "output_type": "error",
     "traceback": [
      "\u001b[1;31m---------------------------------------------------------------------------\u001b[0m",
      "\u001b[1;31mKeyboardInterrupt\u001b[0m                         Traceback (most recent call last)",
      "\u001b[1;32mg:\\SRH\\Case Study 1\\newdataio\\newsdataio.ipynb Cell 5\u001b[0m in \u001b[0;36m<cell line: 1>\u001b[1;34m()\u001b[0m\n\u001b[0;32m      <a href='vscode-notebook-cell:/g%3A/SRH/Case%20Study%201/newdataio/newsdataio.ipynb#X25sZmlsZQ%3D%3D?line=3'>4</a>\u001b[0m query_url \u001b[39m=\u001b[39m \u001b[39mf\u001b[39m\u001b[39m\"\u001b[39m\u001b[39mhttps://api.nytimes.com/svc/search/v2/articlesearch.json?\u001b[39m\u001b[39m\"\u001b[39m \\\n\u001b[0;32m      <a href='vscode-notebook-cell:/g%3A/SRH/Case%20Study%201/newdataio/newsdataio.ipynb#X25sZmlsZQ%3D%3D?line=4'>5</a>\u001b[0m             \u001b[39mf\u001b[39m\u001b[39m\"\u001b[39m\u001b[39mq=\u001b[39m\u001b[39m{\u001b[39;00mquery\u001b[39m}\u001b[39;00m\u001b[39m\"\u001b[39m \\\n\u001b[0;32m      <a href='vscode-notebook-cell:/g%3A/SRH/Case%20Study%201/newdataio/newsdataio.ipynb#X25sZmlsZQ%3D%3D?line=5'>6</a>\u001b[0m             \u001b[39mf\u001b[39m\u001b[39m\"\u001b[39m\u001b[39m&api-key=\u001b[39m\u001b[39m{\u001b[39;00mapikey\u001b[39m}\u001b[39;00m\u001b[39m\"\u001b[39m \\\n\u001b[1;32m   (...)\u001b[0m\n\u001b[0;32m      <a href='vscode-notebook-cell:/g%3A/SRH/Case%20Study%201/newdataio/newsdataio.ipynb#X25sZmlsZQ%3D%3D?line=8'>9</a>\u001b[0m             \u001b[39mf\u001b[39m\u001b[39m\"\u001b[39m\u001b[39m&sort=\u001b[39m\u001b[39m{\u001b[39;00msort\u001b[39m}\u001b[39;00m\u001b[39m\"\u001b[39m \\\n\u001b[0;32m     <a href='vscode-notebook-cell:/g%3A/SRH/Case%20Study%201/newdataio/newsdataio.ipynb#X25sZmlsZQ%3D%3D?line=9'>10</a>\u001b[0m             \u001b[39mf\u001b[39m\u001b[39m\"\u001b[39m\u001b[39m&fl=\u001b[39m\u001b[39m{\u001b[39;00mresponse_field\u001b[39m}\u001b[39;00m\u001b[39m\"\u001b[39m\n\u001b[0;32m     <a href='vscode-notebook-cell:/g%3A/SRH/Case%20Study%201/newdataio/newsdataio.ipynb#X25sZmlsZQ%3D%3D?line=11'>12</a>\u001b[0m r\u001b[39m=\u001b[39mrequests\u001b[39m.\u001b[39mget(query_url)\n\u001b[1;32m---> <a href='vscode-notebook-cell:/g%3A/SRH/Case%20Study%201/newdataio/newsdataio.ipynb#X25sZmlsZQ%3D%3D?line=12'>13</a>\u001b[0m time\u001b[39m.\u001b[39;49msleep(\u001b[39m20\u001b[39;49m)\n\u001b[0;32m     <a href='vscode-notebook-cell:/g%3A/SRH/Case%20Study%201/newdataio/newsdataio.ipynb#X25sZmlsZQ%3D%3D?line=13'>14</a>\u001b[0m \u001b[39mif\u001b[39;00m r\u001b[39m.\u001b[39mstatus_code \u001b[39m==\u001b[39m \u001b[39m200\u001b[39m:\n\u001b[0;32m     <a href='vscode-notebook-cell:/g%3A/SRH/Case%20Study%201/newdataio/newsdataio.ipynb#X25sZmlsZQ%3D%3D?line=14'>15</a>\u001b[0m     out \u001b[39m=\u001b[39m r\u001b[39m.\u001b[39mjson()\n",
      "\u001b[1;31mKeyboardInterrupt\u001b[0m: "
     ]
    }
   ],
   "source": [
    "while out_status_code == 200:\n",
    "    page = 0\n",
    "    while status_code == 200:\n",
    "        query_url = f\"https://api.nytimes.com/svc/search/v2/articlesearch.json?\" \\\n",
    "                    f\"q={query}\" \\\n",
    "                    f\"&api-key={apikey}\" \\\n",
    "                    f\"&begin_date={begin_date}\" \\\n",
    "                    f\"&page={page}\" \\\n",
    "                    f\"&sort={sort}\" \\\n",
    "                    f\"&fl={response_field}\"\n",
    "        \n",
    "        r=requests.get(query_url)\n",
    "        time.sleep(20)\n",
    "        if r.status_code == 200:\n",
    "            out = r.json()\n",
    "            collection.insert_one(out)\n",
    "        print(\"page: \",page)\n",
    "        page = page + 1\n",
    "        status_code = r.status_code\n",
    "        print(\"status_code: \",status_code)\n",
    "\n",
    "    date = datetime.strptime((out['response']['docs'][0]['pub_date'][0:10]), '%Y-%m-%d')\n",
    "    begin_date = (date + timedelta(days=1)).strftime(\"%Y-%m-%d\")\n",
    "    out_status_code = r.status_code\n",
    "    print(\"out_status_code: \",out_status_code)"
   ]
  }
 ],
 "metadata": {
  "kernelspec": {
   "display_name": "Python 3.10.7 64-bit (microsoft store)",
   "language": "python",
   "name": "python3"
  },
  "language_info": {
   "codemirror_mode": {
    "name": "ipython",
    "version": 3
   },
   "file_extension": ".py",
   "mimetype": "text/x-python",
   "name": "python",
   "nbconvert_exporter": "python",
   "pygments_lexer": "ipython3",
   "version": "3.10.7"
  },
  "orig_nbformat": 4,
  "vscode": {
   "interpreter": {
    "hash": "5c0ade3312b2e7e111b335cf8e3c387dd3739efa289d1ade6f9be9003676944f"
   }
  }
 },
 "nbformat": 4,
 "nbformat_minor": 2
}
